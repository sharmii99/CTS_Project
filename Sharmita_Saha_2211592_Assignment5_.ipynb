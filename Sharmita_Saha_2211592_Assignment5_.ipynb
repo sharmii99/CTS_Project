{
 "cells": [
  {
   "cell_type": "markdown",
   "metadata": {
    "id": "55MaEybfu3Ta"
   },
   "source": [
    "# The Basics: Training my first Neural Network\n",
    "\n",
    "1. We will use tensorflow\n",
    "2. Keras is integrated into tf\n",
    "3. Train with the given data\n",
    "4. Improve the model with added data\n",
    "\n",
    "\n"
   ]
  },
  {
   "cell_type": "markdown",
   "metadata": {
    "id": "yccpFnzzv1qz"
   },
   "source": [
    "The problem we want to solve is to convert from Celsius to Farenheit, where the approximate formula  is:\n",
    "\n",
    "                         f=c*1.8+32 \n",
    "\n",
    "of course it would be simple enough to create a conventional Python function that directly performs the calculation but that wouldn't be machine learning.\n",
    "\n",
    "Instead we will give Tensorflow some sample celsius values(0,8,15,22,38) and their corresponding Farenheit values(32,45,59,72,100). Then we will train a model that figures out the above formula through the training process"
   ]
  },
  {
   "cell_type": "markdown",
   "metadata": {
    "id": "D42673CTxYm5"
   },
   "source": [
    "# Import dependencies\n"
   ]
  },
  {
   "cell_type": "code",
   "execution_count": 1,
   "metadata": {
    "id": "Kmzk1iF2rs46"
   },
   "outputs": [],
   "source": [
    "import tensorflow as tf"
   ]
  },
  {
   "cell_type": "code",
   "execution_count": 2,
   "metadata": {
    "colab": {
     "base_uri": "https://localhost:8080/",
     "height": 35
    },
    "id": "fOHxa8D2xfix",
    "outputId": "b0c8a9fc-2163-461e-f63a-658fb154f62a"
   },
   "outputs": [
    {
     "data": {
      "application/vnd.google.colaboratory.intrinsic+json": {
       "type": "string"
      },
      "text/plain": [
       "'2.9.2'"
      ]
     },
     "execution_count": 2,
     "metadata": {},
     "output_type": "execute_result"
    }
   ],
   "source": [
    "tf.__version__"
   ]
  },
  {
   "cell_type": "code",
   "execution_count": 3,
   "metadata": {
    "id": "9FSaJr8LyLag"
   },
   "outputs": [],
   "source": [
    "import numpy as np\n",
    "import logging\n",
    "logger=tf.get_logger()\n",
    "logger.setLevel(logging.ERROR)"
   ]
  },
  {
   "cell_type": "markdown",
   "metadata": {
    "id": "eEtAPPZrz9ci"
   },
   "source": [
    "## Setting up Training Data\n",
    "\n",
    "As we saw before, supervised Machine Learning is all about figuring out an algorithm given a set of inputs and outputs.\n",
    "Since the task in this Codelab is to create a model that can give the temperature in Farenheit when given the degrees in Celsius, we create two lists celsius_q and farenheit_a that we can use to train our model."
   ]
  },
  {
   "cell_type": "code",
   "execution_count": 5,
   "metadata": {
    "colab": {
     "base_uri": "https://localhost:8080/"
    },
    "id": "cfp_9CrS2Ube",
    "outputId": "cabb7adc-4451-46ee-a92c-f8be77572932"
   },
   "outputs": [
    {
     "name": "stdout",
     "output_type": "stream",
     "text": [
      "-40.0 degree Celsius= -40.0 degrees Fahrenheit\n",
      "-5.0 degree Celsius= 23.0 degrees Fahrenheit\n",
      "0.0 degree Celsius= 32.0 degrees Fahrenheit\n",
      "8.0 degree Celsius= 46.4 degrees Fahrenheit\n",
      "16.0 degree Celsius= 60.8 degrees Fahrenheit\n",
      "25.0 degree Celsius= 77.0 degrees Fahrenheit\n",
      "40.0 degree Celsius= 104.0 degrees Fahrenheit\n",
      "50.0 degree Celsius= 122.0 degrees Fahrenheit\n"
     ]
    }
   ],
   "source": [
    "celsius_q = np.array([-40,-5,0,8,16,25,40,50],dtype=float)\n",
    "fahrenheit_a= np.array([-40,23,32,46.4,60.8,77,104,122],dtype=float)\n",
    "for i,c in enumerate(celsius_q):\n",
    "  print(\"{} degree Celsius= {} degrees Fahrenheit\".format(c,fahrenheit_a[i]))"
   ]
  },
  {
   "cell_type": "markdown",
   "metadata": {
    "id": "pEjOl9Lo329E"
   },
   "source": [
    "**Machine Language Terminology** \\\n",
    "**Feature**- The input(s) to our model. In this case, a single value-the degrees in Celsius.\\\n",
    " **Labels**- The output our model predicts.In this case a single value- the degrees in Fahrenheit.\n",
    "\n",
    " Example- a pair of inputs/outputs used during training.In our case a pair of values from celsius_q and fahrenheit_a at a specific index, such as (25,72)."
   ]
  },
  {
   "cell_type": "markdown",
   "metadata": {
    "id": "0zP2uSxo5KR6"
   },
   "source": [
    "## Create the model\n",
    "\n",
    "Next we create the model. We will use the simplest possible model, a **Dense Network**. Since the problem is straightforward, this network will require only a single layer,with a single neuron\n",
    "\n",
    "### Build a layer\n",
    "\n",
    "We'll call the layer 'l0' and create it by instantiating 'tf.keras.layers.Dense' with the following configuration.\n",
    "\n",
    "\n",
    "\n",
    "*   input_shape=[1]- This specifies that the input to this layer is a single value. That is , the shape is a one-dimensional array with one member.Since this is the first(and only) layer, that input shape is the input shape of the entire model. The single value is a floating point number, representing degree Celsius.\n",
    "\n",
    "\n",
    "\n",
    "*   units=1- This specifies the number of neurons in the layer.The number of neurons defines how many internal variables the layer has to try to learn how to solve the problem.Since this is the final layer, it is also the size of the model's output- a single float value representing degrees Fahrenheit.(In a multi layered network, the sizeand shape of the layer would need to match the 'input_shape' of the next layer.)\n",
    "\n",
    "\n",
    "\n"
   ]
  },
  {
   "cell_type": "code",
   "execution_count": 6,
   "metadata": {
    "id": "4WRE-4H_3dO0"
   },
   "outputs": [],
   "source": [
    "l0=tf.keras.layers.Dense(units=1,input_shape=[1])"
   ]
  },
  {
   "cell_type": "markdown",
   "metadata": {
    "id": "rqnu-1x888bT"
   },
   "source": [
    "## Assemble layers into the model\n",
    "\n",
    "Once the layers are defined , they need to be assembled into a model. the Sequential model definition takes a list of layers as an argument, specifying the calculation order from the input to the output.\n",
    "\n",
    "The model has  just a single layer, ID.\n"
   ]
  },
  {
   "cell_type": "code",
   "execution_count": 7,
   "metadata": {
    "id": "Ffn2HXkw3EJm"
   },
   "outputs": [],
   "source": [
    "model=tf.keras.Sequential([l0]) #here we have just a single layer in our model"
   ]
  },
  {
   "cell_type": "markdown",
   "metadata": {
    "id": "myIsJ8Zt-Wyh"
   },
   "source": [
    "## Compile the model with loss and optimizer functions\n",
    "\n",
    "Before training, the model has to be compiled. When compiled for training, the model is given:\n",
    "\n",
    "\n",
    "\n",
    "*   Loss function- A way of measuring how far off predictions are from the desired outcome( the measured difference is  called a \"loss\")\n",
    "\n",
    "*   Optimiser Function- A way of adjusting internal values in order to reduce the loss.\n",
    "\n"
   ]
  },
  {
   "cell_type": "code",
   "execution_count": 8,
   "metadata": {
    "id": "snyo0AqA9qjp"
   },
   "outputs": [],
   "source": [
    "model.compile(loss='mean_squared_error',optimizer=tf.keras.optimizers.Adam(0.1))"
   ]
  },
  {
   "cell_type": "markdown",
   "metadata": {
    "id": "Tby4j_o9JSM-"
   },
   "source": [
    "These are used during training to first calculate the loss at each point and then improve it. In fact , the act of calculating the current loss of a model and then improving it is precisely what the training is.\n",
    "\n",
    "During training the optimizer function is used to calculate the adjustments to the model's internal variables. The goal is to adjust the internal variables until the model(which is a math function) mirrors the actual equation for converting Celsius to Fahrenheit.\n",
    "\n",
    "TensorFlow  uses numerical analysis to perform this tuning and all this complexity is hidden.\n",
    "\n",
    "The loss function(mean squared error) and the optimizer(Adam) used here are standard for simple models like this one, but many others are available.\n",
    "\n",
    "One of the most important part of the model is the learning  rate , it is the step size taken when adjusting values in the model. if the value is too small,it will take too many iterations to train the model. While if it's too large the accuracy goes down. Finding a good value for it requires a lot of trial and error but the default for it is 0.001 and 0.1"
   ]
  },
  {
   "cell_type": "markdown",
   "metadata": {
    "id": "OXC1r9aEAq4X"
   },
   "source": [
    "## Train The Model\n",
    "\n",
    "We train the model by calling the .fit method.\n",
    "\n",
    "During training, the model takes in Celsius values, performs a calculation using the current internal variables called **\"weights\"** and output values which are meant to be the Fahrenheit equivalent. Since intially the weights are set randomly so the output tends not to be close to the actual value. The difference between the output and the actual value is given by the loss function and the optimizer function directs how the weights need to be adjusted.\n",
    "\n",
    "This cycle of calculate,compare, adjust is controlled by the fit method. The first argument is the inputs, the second argument is the desired outputs.The **epochs** arguement specifies how many times this cycle should be run and the verbose argument controls how much output the method produces."
   ]
  },
  {
   "cell_type": "code",
   "execution_count": 9,
   "metadata": {
    "colab": {
     "base_uri": "https://localhost:8080/"
    },
    "id": "V2WBqsTa_ra8",
    "outputId": "f78aec31-01cc-4fb4-daa1-3259e4636d2f"
   },
   "outputs": [
    {
     "name": "stdout",
     "output_type": "stream",
     "text": [
      "Finished training the model\n"
     ]
    }
   ],
   "source": [
    "history=model.fit(celsius_q,fahrenheit_a, epochs=1000,verbose=False)\n",
    "print(\"Finished training the model\")"
   ]
  },
  {
   "cell_type": "markdown",
   "metadata": {
    "id": "E4HXCmvSBjlX"
   },
   "source": [
    "## Display the training statistics\n",
    "\n",
    "the fit method returns a history object. We can use this object to plot how the loss of our model goes down after each training epoch. A high loss means that the fahrenheit degrees that the model predicts is far from the corresponding value in farenheit_a.\n",
    "\n",
    "\n",
    "Now we will use **Matplotlib** to visualize this."
   ]
  },
  {
   "cell_type": "code",
   "execution_count": 10,
   "metadata": {
    "colab": {
     "base_uri": "https://localhost:8080/",
     "height": 296
    },
    "id": "aq11Z7uQBDPM",
    "outputId": "03c991cd-4cfe-4cd6-c4be-e11b61e5ba38"
   },
   "outputs": [
    {
     "data": {
      "text/plain": [
       "[<matplotlib.lines.Line2D at 0x7f219022bc90>]"
      ]
     },
     "execution_count": 10,
     "metadata": {},
     "output_type": "execute_result"
    },
    {
     "data": {
      "image/png": "[encoded data removed]",
      "text/plain": [
       "<Figure size 432x288 with 1 Axes>"
      ]
     },
     "metadata": {
      "needs_background": "light"
     },
     "output_type": "display_data"
    }
   ],
   "source": [
    "import matplotlib.pyplot as plt\n",
    "plt.xlabel('Epoch Number')\n",
    "plt.ylabel('Loss Magnitude')\n",
    "plt.plot(history.history['loss'])"
   ]
  },
  {
   "cell_type": "markdown",
   "metadata": {
    "id": "TUO_kqA0QxWk"
   },
   "source": [
    "We can see from the above graph that our model improves very quickly at first and then has a steady, slow improvement until it is very near perfect towards the end."
   ]
  },
  {
   "cell_type": "code",
   "execution_count": 11,
   "metadata": {
    "colab": {
     "base_uri": "https://localhost:8080/"
    },
    "id": "lzmINIlsCCwj",
    "outputId": "e40deb81-dbd3-48df-b16e-831a99ce2bb3"
   },
   "outputs": [
    {
     "name": "stdout",
     "output_type": "stream",
     "text": [
      "1/1 [==============================] - 0s 67ms/step\n",
      "[[212.10114]]\n"
     ]
    }
   ],
   "source": [
    "print(model.predict([100.0]))"
   ]
  },
  {
   "cell_type": "markdown",
   "metadata": {
    "id": "KYODmf4QRIp3"
   },
   "source": [
    "Now we use the .predict method to predict the fahrenheit value for  a previously unknown Celsius degree. \n",
    "\n",
    "We try to predict the Fahrenheit value for 100 degree Celsius.\n",
    "\n",
    "\n"
   ]
  },
  {
   "cell_type": "markdown",
   "metadata": {
    "id": "KulWc1kqSCyV"
   },
   "source": [
    "### To review\n",
    "\n",
    "\n",
    "\n",
    "*   We  created a model with a Dense Layer\n",
    "\n",
    "*   we trained it with 3500 examples(i.e 7 pairs 500 epochs initially ) \n",
    "\n",
    "our model tuned the variables(weights) in the Dense layer until it was able to return the correct Fahrenheit value for any Celsius value.\n",
    "\n"
   ]
  },
  {
   "cell_type": "markdown",
   "metadata": {
    "id": "Kl2WXgCXexCO"
   },
   "source": [
    "## Looking at the layer weights"
   ]
  },
  {
   "cell_type": "code",
   "execution_count": 12,
   "metadata": {
    "colab": {
     "base_uri": "https://localhost:8080/"
    },
    "id": "THLGyA2RZ-Ed",
    "outputId": "9bef0fb7-8c5f-44f2-8d34-2d21bccb221d"
   },
   "outputs": [
    {
     "name": "stdout",
     "output_type": "stream",
     "text": [
      "these are the layer variables: [array([[1.8032843]], dtype=float32), array([31.77271], dtype=float32)]\n"
     ]
    }
   ],
   "source": [
    "print(\"these are the layer variables: {}\".format(l0.get_weights()))"
   ]
  },
  {
   "cell_type": "markdown",
   "metadata": {
    "id": "YYVGJoNeTI1b"
   },
   "source": [
    "The first variable is close to 1.8 and the second to 32.These values are the actual variables in the real conversion formula."
   ]
  },
  {
   "cell_type": "markdown",
   "metadata": {
    "id": "vf6OdbHwTm55"
   },
   "source": [
    "Here we dont need multiple layers but we create more Dense Layers with different units, which therefore also as more variables."
   ]
  },
  {
   "cell_type": "code",
   "execution_count": 13,
   "metadata": {
    "colab": {
     "base_uri": "https://localhost:8080/"
    },
    "id": "TxJ3gucUfJWw",
    "outputId": "dd90fc00-2835-40d3-aeb7-23167aa21d09"
   },
   "outputs": [
    {
     "name": "stdout",
     "output_type": "stream",
     "text": [
      "Finished training the model\n",
      "1/1 [==============================] - 0s 53ms/step\n",
      "[[211.99998]]\n",
      "1/1 [==============================] - 0s 27ms/step\n",
      "Model predicts that 100 degrees Celsius is: [[211.99998]] degrees Fahrenheit\n",
      "These are the l0 variables: [array([[ 0.41128027, -0.6179163 ,  0.05485622,  0.2290001 ]],\n",
      "      dtype=float32), array([ 3.8768895, -3.8098903,  3.5635562,  3.2287405], dtype=float32)]\n",
      "These are the l1 variables: [array([[ 0.38678637,  0.12586805,  0.37671503,  1.2632776 ],\n",
      "       [-0.59016293, -0.968681  , -0.0168617 , -0.2149758 ],\n",
      "       [ 0.681713  , -0.39222074, -0.44785255,  1.0747533 ],\n",
      "       [ 0.29587662,  0.41757923, -0.879666  ,  0.6447792 ]],\n",
      "      dtype=float32), array([ 2.5339463,  3.0679965, -3.468573 ,  3.5172145], dtype=float32)]\n",
      "These are the l2 variables: [array([[ 0.6535448 ],\n",
      "       [ 0.7078349 ],\n",
      "       [-0.36233556],\n",
      "       [ 0.9944273 ]], dtype=float32), array([3.215206], dtype=float32)]\n"
     ]
    }
   ],
   "source": [
    "l0 = tf.keras.layers.Dense(units=4, input_shape=[1])\n",
    "l1 = tf.keras.layers.Dense(units=4)\n",
    "l2 = tf.keras.layers.Dense(units=1)\n",
    "model = tf.keras.Sequential([l0, l1, l2])\n",
    "model.compile(loss='mean_squared_error', optimizer=tf.keras.optimizers.Adam(0.1))\n",
    "model.fit(celsius_q, fahrenheit_a, epochs=500, verbose=False)\n",
    "print(\"Finished training the model\")\n",
    "print(model.predict([100.0]))\n",
    "print(\"Model predicts that 100 degrees Celsius is: {} degrees Fahrenheit\".format(model.predict([100.0])))\n",
    "print(\"These are the l0 variables: {}\".format(l0.get_weights()))\n",
    "print(\"These are the l1 variables: {}\".format(l1.get_weights()))\n",
    "print(\"These are the l2 variables: {}\".format(l2.get_weights()))"
   ]
  },
  {
   "cell_type": "code",
   "execution_count": null,
   "metadata": {
    "id": "H5YX5yjJETlZ"
   },
   "outputs": [],
   "source": []
  }
 ],
 "metadata": {
  "accelerator": "GPU",
  "colab": {
   "provenance": []
  },
  "kernelspec": {
   "display_name": "Python 3 (ipykernel)",
   "language": "python",
   "name": "python3"
  },
  "language_info": {
   "codemirror_mode": {
    "name": "ipython",
    "version": 3
   },
   "file_extension": ".py",
   "mimetype": "text/x-python",
   "name": "python",
   "nbconvert_exporter": "python",
   "pygments_lexer": "ipython3",
   "version": "3.9.12"
  }
 },
 "nbformat": 4,
 "nbformat_minor": 1
}
