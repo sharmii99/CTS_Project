{
 "cells": [
  {
   "cell_type": "markdown",
   "metadata": {
    "id": "J5kLzeFoD0fz"
   },
   "source": [
    "Code to Plot Losses inline in this notebook"
   ]
  },
  {
   "cell_type": "code",
   "execution_count": 1,
   "metadata": {
    "id": "i288JftSD5Rg"
   },
   "outputs": [],
   "source": [
    "%matplotlib inline"
   ]
  },
  {
   "cell_type": "markdown",
   "metadata": {
    "id": "S3G_CPwpEM68"
   },
   "source": [
    "## The Task for the AI\n",
    "\n"
   ]
  },
  {
   "cell_type": "markdown",
   "metadata": {
    "id": "tbHV0_obE8KR"
   },
   "source": [
    "## Prerequisite "
   ]
  },
  {
   "cell_type": "code",
   "execution_count": 2,
   "metadata": {
    "id": "E6QXpDGzD7-a"
   },
   "outputs": [],
   "source": [
    "import numpy as np                 # advanced math library\n",
    "import matplotlib.pyplot as plt    # MATLAB like plotting routines\n",
    "import random                      # For generating random number\n",
    "%matplotlib inline\n",
    "\n",
    "\n",
    "from keras.datasets import mnist      # MNIST dataset is included in keras\n",
    "from keras.models import Sequential   # Model type to be used\n",
    "\n",
    "from keras.layers.core import Dense, Dropout, Activation\n",
    "from keras.utils import np_utils"
   ]
  },
  {
   "cell_type": "markdown",
   "metadata": {
    "id": "E2_7ZEgLH8rU"
   },
   "source": [
    "# Loading Training Data"
   ]
  },
  {
   "cell_type": "code",
   "execution_count": 3,
   "metadata": {
    "colab": {
     "base_uri": "https://localhost:8080/"
    },
    "id": "2mTRqtT9IC3s",
    "outputId": "cdf5569c-e488-4304-bf7b-f971abbef6d7"
   },
   "outputs": [
    {
     "name": "stdout",
     "output_type": "stream",
     "text": [
      "Downloading data from https://storage.googleapis.com/tensorflow/tf-keras-datasets/mnist.npz\n",
      "11490434/11490434 [==============================] - 0s 0us/step\n",
      "X_train shape (60000, 28, 28)\n",
      "y_train shape (60000,)\n",
      "X_test shape (10000, 28, 28)\n",
      "y_test shape (10000,)\n"
     ]
    }
   ],
   "source": [
    "(X_train, y_train), (X_test, y_test) = mnist.load_data()\n",
    "\n",
    "print(\"X_train shape\", X_train.shape)\n",
    "print(\"y_train shape\", y_train.shape)\n",
    "print(\"X_test shape\",X_test.shape)\n",
    "print(\"y_test shape\", y_test.shape)"
   ]
  },
  {
   "cell_type": "markdown",
   "metadata": {
    "id": "ABLkg1rDI2dL"
   },
   "source": []
  },
  {
   "cell_type": "code",
   "execution_count": 4,
   "metadata": {
    "colab": {
     "base_uri": "https://localhost:8080/",
     "height": 657
    },
    "id": "4ZbX0254I3Go",
    "outputId": "09fedfdc-da07-4d38-d338-32ea49387576"
   },
   "outputs": [
    {
     "data": {
      "image/png": "[encoded data removed]",
      "text/plain": [
       "<Figure size 648x648 with 9 Axes>"
      ]
     },
     "metadata": {
      "needs_background": "light"
     },
     "output_type": "display_data"
    }
   ],
   "source": [
    "plt.rcParams['figure.figsize'] = (9,9)\n",
    "\n",
    "for i in range(9):\n",
    "  plt.subplot(3,3,i+1)\n",
    "  num = random.randint(0,len(X_train))\n",
    "  plt.imshow(X_train[num], cmap = 'gray', interpolation = 'none')\n",
    "  plt.title(\"Class {}\".format(y_train[num]))\n",
    "\n",
    "plt.tight_layout()\n",
    "\n",
    "\n"
   ]
  },
  {
   "cell_type": "markdown",
   "metadata": {
    "id": "7eoIlLSnK83R"
   },
   "source": []
  },
  {
   "cell_type": "code",
   "execution_count": 5,
   "metadata": {
    "colab": {
     "base_uri": "https://localhost:8080/"
    },
    "id": "k7_SatL6Lq1y",
    "outputId": "53215435-6185-4a7b-91e0-60810abc613d"
   },
   "outputs": [
    {
     "name": "stdout",
     "output_type": "stream",
     "text": [
      "0  0  0  0    0    0    0    0    0    0    0    0    0    0    0    0    0    0    0    0    0    0    0    0  0  0  0  0  \n",
      "0  0  0  0    0    0    0    0    0    0    0    0    0    0    0    0    0    0    0    0    0    0    0    0  0  0  0  0  \n",
      "0  0  0  0    0    0    0    0    0    0    0   12  164   25    0    0    0    0    0    0    0    0    0    0  0  0  0  0  \n",
      "0  0  0  0    0    0    0    0    0    0    0   18  254  248  189    5    0    0    0    0    0    0    0    0  0  0  0  0  \n",
      "0  0  0  0    0    0    0    0    0    0    0    2   84  131  166  210  149   71    9    0    0    0    0    0  0  0  0  0  \n",
      "0  0  0  0    0    0    0    0    0    0    0    0    0   31   87   50  114  240  186   43    0    0    0    0  0  0  0  0  \n",
      "0  0  0  0    0    0    0    0    0    0    0    0    0    0    0    0    0   50   85  237   45    0    0    0  0  0  0  0  \n",
      "0  0  0  0    0    0    0    0    0    0    0    0    0    0    0    0    0    0    8  206  210   42    0    0  0  0  0  0  \n",
      "0  0  0  0    0    0    0    0    0    0    0    0    0    0    0    0    0    0    0   38  212  226   41    0  0  0  0  0  \n",
      "0  0  0  0    0    0    0    0    0    0    0    0    0    0    0    0    0    0    0    0   25  249  193    0  0  0  0  0  \n",
      "0  0  0  0    0    0    0    0    0    0    0    0    0    0    0    0    0    0    0    0    0  156  251   57  0  0  0  0  \n",
      "0  0  0  0    0    0    0    0    0    0    0    0    0    0    0    0    0    0    0    0    0    6  206  169  0  0  0  0  \n",
      "0  0  0  0    0    0    0    0    0    0    0    0    0    0    0    0    0    0    0    0    0   39  230  254  0  0  0  0  \n",
      "0  0  0  0    0    0    0   39   86  158  158  152   68    0    0    0    0    0    0    0   41  228  254  199  0  0  0  0  \n",
      "0  0  0  0    0   42  170  246  254  254  254  254  253  237   93    2    0    0    0  136  244  254  230   66  0  0  0  0  \n",
      "0  0  0  0  138  235  254  254  244  201  131  114  177  237  254  120    4   48  186  249  254  207   40    0  0  0  0  0  \n",
      "0  0  0  0  254  254  243  143   29    0    0    0    0   55  239  254  222  238  254  248  131    9    0    0  0  0  0  0  \n",
      "0  0  0  0  254  220   39    0    0    0    0    0    2   36  240  254  254  254  178   53    0    0    0    0  0  0  0  0  \n",
      "0  0  0  0  254   75    0    0    0    0   21   94  179  254  254  246  234  254   44    0    0    0    0    0  0  0  0  0  \n",
      "0  0  0  0  255   25   18   18   64  148  241  254  254  248  152   44   15  228  192    3    0    0    0    0  0  0  0  0  \n",
      "0  0  0  0  251  254  254  254  254  254  253  239  154   46    0    0    0   57  241   80    0    0    0    0  0  0  0  0  \n",
      "0  0  0  0   52   79   79   79   79   79   71    0    0    0    0    0    0    0   68   68    0    0    0    0  0  0  0  0  \n",
      "0  0  0  0    0    0    0    0    0    0    0    0    0    0    0    0    0    0    0    0    0    0    0    0  0  0  0  0  \n",
      "0  0  0  0    0    0    0    0    0    0    0    0    0    0    0    0    0    0    0    0    0    0    0    0  0  0  0  0  \n",
      "0  0  0  0    0    0    0    0    0    0    0    0    0    0    0    0    0    0    0    0    0    0    0    0  0  0  0  0  \n",
      "0  0  0  0    0    0    0    0    0    0    0    0    0    0    0    0    0    0    0    0    0    0    0    0  0  0  0  0  \n",
      "0  0  0  0    0    0    0    0    0    0    0    0    0    0    0    0    0    0    0    0    0    0    0    0  0  0  0  0  \n",
      "0  0  0  0    0    0    0    0    0    0    0    0    0    0    0    0    0    0    0    0    0    0    0    0  0  0  0  0  \n"
     ]
    }
   ],
   "source": [
    "# just a little function for pretty printing a matrix\n",
    "def matprint(mat, fmt=\"g\"):\n",
    "    col_maxes = [max([len((\"{:\"+fmt+\"}\").format(x)) for x in col]) for col in mat.T]\n",
    "    for x in mat:\n",
    "        for i, y in enumerate(x):\n",
    "            print((\"{:\"+str(col_maxes[i])+fmt+\"}\").format(y), end=\"  \")\n",
    "        print(\"\")\n",
    "# now print!        \n",
    "matprint(X_train[num])"
   ]
  },
  {
   "cell_type": "code",
   "execution_count": 6,
   "metadata": {
    "id": "Q-X-DEaSLsat"
   },
   "outputs": [],
   "source": [
    "X_train = X_train.reshape(60000, 784)   # reshape 60,000 28*28 matrices into\n",
    "X_test = X_test.reshape(10000, 784)     # reshape 10,000 28*28 matrices into\n",
    "\n",
    "X_train = X_train.astype('float32')     # #change integers to 32-bit floating point\n",
    "X_test = X_test.astype('float32')\n",
    "\n",
    "X_train /= 255\n",
    "X_test /= 255   # normalize each value for each pixel \n"
   ]
  },
  {
   "cell_type": "code",
   "execution_count": 7,
   "metadata": {
    "colab": {
     "base_uri": "https://localhost:8080/"
    },
    "id": "zaW9wcaFM7fx",
    "outputId": "8f6289d4-5b64-44b7-c9f8-76ca0f8a42a3"
   },
   "outputs": [
    {
     "name": "stdout",
     "output_type": "stream",
     "text": [
      "Training matrix shape (60000, 784)\n",
      "Testing matrix shape (10000, 784)\n"
     ]
    }
   ],
   "source": [
    "print(\"Training matrix shape\", X_train.shape)\n",
    "print(\"Testing matrix shape\", X_test.shape)      "
   ]
  },
  {
   "cell_type": "markdown",
   "metadata": {
    "id": "04MFwf5v6T3f"
   },
   "source": [
    "We need to encoding for labels"
   ]
  },
  {
   "cell_type": "code",
   "execution_count": 8,
   "metadata": {
    "id": "TRCHiUieOsOu"
   },
   "outputs": [],
   "source": [
    "nb_classes = 10 # number of unique digits\n",
    "\n",
    "Y_train = np_utils.to_categorical(y_train, nb_classes)\n",
    "Y_test = np_utils.to_categorical(y_test, nb_classes)"
   ]
  },
  {
   "cell_type": "code",
   "execution_count": 9,
   "metadata": {
    "id": "1a5wK3csJ5lW"
   },
   "outputs": [],
   "source": [
    "# The Sequential model is a linear stack of layers\n",
    "model = Sequential()"
   ]
  },
  {
   "cell_type": "code",
   "execution_count": 10,
   "metadata": {
    "id": "R63W6AWoIpXw"
   },
   "outputs": [],
   "source": [
    "# The first hidden layer is a set of 512 nodes (artifical neurons)\n",
    "# Each node will recieve an element from each input vector and apply some weight and bias to it\n",
    "model.add(Dense(512, input_shape = (784,)))"
   ]
  },
  {
   "cell_type": "code",
   "execution_count": 11,
   "metadata": {
    "id": "ylJWyTULRRjO"
   },
   "outputs": [],
   "source": [
    "from keras.layers import Activation\n",
    "# An activation is a non-linear function applied to the output of the layer above.\n",
    "# It checks the new value of the node, and decides whether that artifical neuron has fired.\n",
    "# The RELU converts all negative inputs to nodes in the next layer to be zero.\n",
    "# Those inputs are then not considered to be fired.\n",
    "# Positive values of a node are unchanged. \n",
    "model.add(Activation('relu'))"
   ]
  },
  {
   "cell_type": "code",
   "execution_count": 12,
   "metadata": {
    "id": "LWmsid3GIBBc"
   },
   "outputs": [],
   "source": [
    "# Dropout zeros a selection of random outputs.\n",
    "# Dropout helps protect the model from memorizing or overfitting the training data.\n",
    "model.add(Dropout(0.2))"
   ]
  },
  {
   "cell_type": "code",
   "execution_count": 13,
   "metadata": {
    "id": "5RfIWQrEG3Aw"
   },
   "outputs": [],
   "source": [
    "# The second hidden layer appears identical to our first layer.\n",
    "# However instead of each of the 512-node recieving 784-inputs from the input image data, \n",
    "# they recieve 512 inputs from the output of the first 512-node layer.\n",
    "model.add(Dense(512))\n",
    "model.add(Activation('relu'))\n",
    "model.add(Dropout(0.2))"
   ]
  },
  {
   "cell_type": "code",
   "execution_count": 14,
   "metadata": {
    "id": "z7IAlKupURQi"
   },
   "outputs": [],
   "source": [
    "# The final layer of a FCN should be equal to the number of desired classes(10 in this case)\n",
    "model.add(Dense(10))"
   ]
  },
  {
   "cell_type": "code",
   "execution_count": 15,
   "metadata": {
    "id": "YpZW6espUmvO"
   },
   "outputs": [],
   "source": [
    "# The softmax activation represents a probability dist. over k different possible outcomes.\n",
    "# Its values are all non-negative and sum to 1.\n",
    "model.add(Activation('softmax'))"
   ]
  },
  {
   "cell_type": "markdown",
   "metadata": {
    "id": "FxW3mHCd7AM-"
   },
   "source": [
    "We need to see what are the trainable and non-trainable parameters in the summary:"
   ]
  },
  {
   "cell_type": "code",
   "execution_count": 16,
   "metadata": {
    "colab": {
     "base_uri": "https://localhost:8080/"
    },
    "id": "gm5GUOIgUvCJ",
    "outputId": "027a6180-2799-4bf9-9165-3419d15e3f66"
   },
   "outputs": [
    {
     "name": "stdout",
     "output_type": "stream",
     "text": [
      "Model: \"sequential\"\n",
      "_________________________________________________________________\n",
      " Layer (type)                Output Shape              Param #   \n",
      "=================================================================\n",
      " dense (Dense)               (None, 512)               401920    \n",
      "                                                                 \n",
      " activation (Activation)     (None, 512)               0         \n",
      "                                                                 \n",
      " dropout (Dropout)           (None, 512)               0         \n",
      "                                                                 \n",
      " dense_1 (Dense)             (None, 512)               262656    \n",
      "                                                                 \n",
      " activation_1 (Activation)   (None, 512)               0         \n",
      "                                                                 \n",
      " dropout_1 (Dropout)         (None, 512)               0         \n",
      "                                                                 \n",
      " dense_2 (Dense)             (None, 10)                5130      \n",
      "                                                                 \n",
      " activation_2 (Activation)   (None, 10)                0         \n",
      "                                                                 \n",
      "=================================================================\n",
      "Total params: 669,706\n",
      "Trainable params: 669,706\n",
      "Non-trainable params: 0\n",
      "_________________________________________________________________\n"
     ]
    }
   ],
   "source": [
    "# Summary of the model\n",
    "\n",
    "model.summary()"
   ]
  },
  {
   "cell_type": "markdown",
   "metadata": {
    "id": "KMk93nsQVrJu"
   },
   "source": [
    "What are trainable and non- trininable parametersin the summary"
   ]
  },
  {
   "cell_type": "markdown",
   "metadata": {
    "id": "Zql6izGwWUhx"
   },
   "source": [
    "## Compiling the model"
   ]
  },
  {
   "cell_type": "code",
   "execution_count": 17,
   "metadata": {
    "id": "x1BWxPMxWYf4"
   },
   "outputs": [],
   "source": [
    "# let's use the Adam optimizer for learning \n",
    "model.compile(loss = 'categorical_crossentropy', optimizer='adam',\n",
    "              metrics = ['accuracy'])\n"
   ]
  },
  {
   "cell_type": "code",
   "execution_count": 18,
   "metadata": {
    "colab": {
     "base_uri": "https://localhost:8080/"
    },
    "id": "2X4YqRWrYxIw",
    "outputId": "5e678557-bcb2-4059-a8eb-20469d6f0a57"
   },
   "outputs": [
    {
     "name": "stdout",
     "output_type": "stream",
     "text": [
      "Epoch 1/10\n",
      "469/469 [==============================] - 11s 20ms/step - loss: 0.2534 - accuracy: 0.9242\n",
      "Epoch 2/10\n",
      "469/469 [==============================] - 7s 16ms/step - loss: 0.1007 - accuracy: 0.9686\n",
      "Epoch 3/10\n",
      "469/469 [==============================] - 8s 16ms/step - loss: 0.0715 - accuracy: 0.9775\n",
      "Epoch 4/10\n",
      "469/469 [==============================] - 8s 18ms/step - loss: 0.0552 - accuracy: 0.9822\n",
      "Epoch 5/10\n",
      "469/469 [==============================] - 8s 16ms/step - loss: 0.0457 - accuracy: 0.9853\n",
      "Epoch 6/10\n",
      "469/469 [==============================] - 8s 18ms/step - loss: 0.0371 - accuracy: 0.9880\n",
      "Epoch 7/10\n",
      "469/469 [==============================] - 8s 16ms/step - loss: 0.0347 - accuracy: 0.9888\n",
      "Epoch 8/10\n",
      "469/469 [==============================] - 8s 17ms/step - loss: 0.0324 - accuracy: 0.9891\n",
      "Epoch 9/10\n",
      "469/469 [==============================] - 8s 17ms/step - loss: 0.0262 - accuracy: 0.9913\n",
      "Epoch 10/10\n",
      "469/469 [==============================] - 8s 17ms/step - loss: 0.0269 - accuracy: 0.9912\n"
     ]
    },
    {
     "data": {
      "text/plain": [
       "<keras.callbacks.History at 0x7f3fe5d5a910>"
      ]
     },
     "execution_count": 18,
     "metadata": {},
     "output_type": "execute_result"
    }
   ],
   "source": [
    "#fit the model\n",
    "model.fit(X_train, Y_train,\n",
    "          batch_size=128, epochs = 10,\n",
    "          verbose=1)"
   ]
  },
  {
   "cell_type": "code",
   "execution_count": 19,
   "metadata": {
    "colab": {
     "base_uri": "https://localhost:8080/"
    },
    "id": "WHS3cUVCVxq0",
    "outputId": "57c301f5-5283-4a2c-e830-a725fbb79a0f"
   },
   "outputs": [
    {
     "name": "stdout",
     "output_type": "stream",
     "text": [
      "313/313 [==============================] - 2s 4ms/step - loss: 0.0679 - accuracy: 0.9824\n",
      "Test score: 0.06793368607759476\n",
      "Test accuracy: 0.9824000000953674\n"
     ]
    }
   ],
   "source": [
    "score = model.evaluate(X_test, Y_test)\n",
    "print('Test score:', score[0])\n",
    "print('Test accuracy:', score[1])"
   ]
  },
  {
   "cell_type": "code",
   "execution_count": 20,
   "metadata": {
    "colab": {
     "base_uri": "https://localhost:8080/"
    },
    "id": "YqhXnOT26bZF",
    "outputId": "b0322e96-35bc-4fba-e975-aea1a8fd2275"
   },
   "outputs": [
    {
     "name": "stdout",
     "output_type": "stream",
     "text": [
      "313/313 [==============================] - 1s 4ms/step\n"
     ]
    }
   ],
   "source": [
    "# The predict_classes function outputs the highest probability class\n",
    "# according to the trained classifier for each input example\n",
    "predicted_x = model.predict(X_test)\n",
    "predicted_classes = np.argmax(predicted_x, axis = 1)\n",
    "# Check which items we got right/wrong\n",
    "correct_indices = np.nonzero(predicted_classes == y_test)[0]\n",
    "incorrect_indices = np.nonzero(predicted_classes != y_test)[0]"
   ]
  },
  {
   "cell_type": "code",
   "execution_count": 21,
   "metadata": {
    "colab": {
     "base_uri": "https://localhost:8080/",
     "height": 1000
    },
    "id": "OeWGdXSeZXLr",
    "outputId": "f8e3eeda-c0f0-4523-cc85-36eff02aabc0"
   },
   "outputs": [
    {
     "data": {
      "image/png": "[encoded data removed]",
      "text/plain": [
       "<Figure size 648x648 with 9 Axes>"
      ]
     },
     "metadata": {
      "needs_background": "light"
     },
     "output_type": "display_data"
    },
    {
     "data": {
      "image/png": "[encoded data removed]",
      "text/plain": [
       "<Figure size 648x648 with 9 Axes>"
      ]
     },
     "metadata": {
      "needs_background": "light"
     },
     "output_type": "display_data"
    }
   ],
   "source": [
    "plt.figure()\n",
    "for i, correct in enumerate(correct_indices[:9]):\n",
    "    plt.subplot(3,3,i+1)\n",
    "    plt.imshow(X_test[correct].reshape(28,28), cmap='gray', interpolation='none')\n",
    "    plt.title(\"Predicted {}, Class {}\".format(predicted_classes[correct], y_test[correct]))\n",
    "    \n",
    "plt.tight_layout()\n",
    "    \n",
    "plt.figure()\n",
    "for i, incorrect in enumerate(incorrect_indices[:9]):\n",
    "    plt.subplot(3,3,i+1)\n",
    "    plt.imshow(X_test[incorrect].reshape(28,28), cmap='gray', interpolation='none')\n",
    "    plt.title(\"Predicted {}, Class {}\".format(predicted_classes[incorrect], y_test[incorrect]))\n",
    "    \n",
    "plt.tight_layout()"
   ]
  },
  {
   "cell_type": "markdown",
   "metadata": {
    "id": "TxeIA3KM_Uw_"
   },
   "source": [
    "Building a \"Deep\" Convolutional Neural Network"
   ]
  },
  {
   "cell_type": "code",
   "execution_count": 22,
   "metadata": {
    "id": "5-LJh3qA_Z8R"
   },
   "outputs": [],
   "source": [
    "from keras.preprocessing.image import ImageDataGenerator\n",
    "from keras.layers import Conv2D, MaxPooling2D, ZeroPadding2D, GlobalAveragePooling2D,Flatten\n",
    "from keras.layers.normalization.batch_normalization import BatchNormalization"
   ]
  },
  {
   "cell_type": "code",
   "execution_count": 23,
   "metadata": {
    "id": "kU-6_9L68SK2"
   },
   "outputs": [],
   "source": [
    "(X_train, y_train), (X_test, y_test) = mnist.load_data()"
   ]
  },
  {
   "cell_type": "code",
   "execution_count": 24,
   "metadata": {
    "id": "N7YHoYKVVR7L"
   },
   "outputs": [],
   "source": [
    "X_train = X_train.reshape(60000, 28,28,1)   # reshape 60,000 28*28 matrices into\n",
    "X_test = X_test.reshape(10000, 28,28,1)     # reshape 10,000 28*28 matrices into\n",
    "\n",
    "X_train = X_train.astype('float32')\n",
    "X_test = X_test.astype('float32')\n",
    "\n",
    "X_train /= 255\n",
    "X_test /= 255   # normalize each value for each pixel "
   ]
  },
  {
   "cell_type": "code",
   "execution_count": 25,
   "metadata": {
    "colab": {
     "base_uri": "https://localhost:8080/"
    },
    "id": "C5y1wGfvCLwf",
    "outputId": "6ce6b51e-f3cd-4f13-c864-ba56e8c1c2ec"
   },
   "outputs": [
    {
     "name": "stdout",
     "output_type": "stream",
     "text": [
      "Training matrix shape (60000, 28, 28, 1)\n",
      "Testing matrix shape (10000, 28, 28, 1)\n"
     ]
    }
   ],
   "source": [
    "print(\"Training matrix shape\", X_train.shape)\n",
    "print(\"Testing matrix shape\", X_test.shape)"
   ]
  },
  {
   "cell_type": "code",
   "execution_count": 26,
   "metadata": {
    "id": "NJCZtyFeVSw8"
   },
   "outputs": [],
   "source": [
    "nb_classes = 10 # number of unique digits\n",
    "\n",
    "Y_train = np_utils.to_categorical(y_train, nb_classes)\n",
    "Y_test = np_utils.to_categorical(y_test, nb_classes)"
   ]
  },
  {
   "cell_type": "code",
   "execution_count": 27,
   "metadata": {
    "id": "OcE99fqGDloE"
   },
   "outputs": [],
   "source": [
    "model = Sequential()"
   ]
  },
  {
   "cell_type": "code",
   "execution_count": 28,
   "metadata": {
    "id": "FreLw2TvDqJm"
   },
   "outputs": [],
   "source": [
    "#Convolution Layer 1\n",
    "model.add(Conv2D(32,(3,3), input_shape=(28,28,1)))\n"
   ]
  },
  {
   "cell_type": "code",
   "execution_count": 29,
   "metadata": {
    "id": "tCqpjZQaSlIp"
   },
   "outputs": [],
   "source": [
    "model.add(BatchNormalization(axis=-1))"
   ]
  },
  {
   "cell_type": "code",
   "execution_count": 30,
   "metadata": {
    "id": "zSxB-aH7So1h"
   },
   "outputs": [],
   "source": [
    "convLayer01 = Activation('relu')"
   ]
  },
  {
   "cell_type": "code",
   "execution_count": 31,
   "metadata": {
    "id": "sCECSDHpTF7D"
   },
   "outputs": [],
   "source": [
    "model.add(convLayer01)"
   ]
  },
  {
   "cell_type": "code",
   "execution_count": 32,
   "metadata": {
    "id": "uy2YaNm3TRyl"
   },
   "outputs": [],
   "source": [
    "# Convultional Layer 2\n",
    "model.add(Conv2D(32,(3,3)))\n",
    "\n"
   ]
  },
  {
   "cell_type": "code",
   "execution_count": 33,
   "metadata": {
    "id": "ukQoQ6SgUAr2"
   },
   "outputs": [],
   "source": [
    "model.add(BatchNormalization(axis = -1))"
   ]
  },
  {
   "cell_type": "code",
   "execution_count": 34,
   "metadata": {
    "id": "DlN5Di4TUFlP"
   },
   "outputs": [],
   "source": [
    "model.add(Activation('relu'))"
   ]
  },
  {
   "cell_type": "code",
   "execution_count": 35,
   "metadata": {
    "id": "mwmUE0dMUJRA"
   },
   "outputs": [],
   "source": [
    "convLayer02 = MaxPooling2D(pool_size=(2,2))"
   ]
  },
  {
   "cell_type": "code",
   "execution_count": 36,
   "metadata": {
    "id": "2IeO3sXCUWFz"
   },
   "outputs": [],
   "source": [
    "model.add(convLayer02)"
   ]
  },
  {
   "cell_type": "code",
   "execution_count": 37,
   "metadata": {
    "id": "DebKhHFyUaGN"
   },
   "outputs": [],
   "source": [
    "from keras.backend import conv2d\n",
    "# Convolution Layer 3\n",
    "model.add(Conv2D(64,(3,3)))\n",
    "model.add(BatchNormalization(axis = -1))\n",
    "convLayer03 = Activation('relu')\n",
    "model.add(convLayer03)\n"
   ]
  },
  {
   "cell_type": "code",
   "execution_count": 38,
   "metadata": {
    "id": "SW6MvBAuUyj0"
   },
   "outputs": [],
   "source": [
    "# Convolution Layer 4\n",
    "\n",
    "model.add(Conv2D(64,(3,3)))\n",
    "model.add(BatchNormalization(axis = -1))\n",
    "convLayer03 = Activation('relu')\n",
    "convLayer04 = MaxPooling2D(pool_size=(2,2))\n",
    "model.add(convLayer04)\n",
    "model.add(Flatten())"
   ]
  },
  {
   "cell_type": "code",
   "execution_count": 39,
   "metadata": {
    "id": "l2brmvyBVHAG"
   },
   "outputs": [],
   "source": [
    "# Fully connected Layer 5\n",
    "model.add(Dense(512))\n",
    "model.add(BatchNormalization())\n",
    "model.add(Activation('relu'))"
   ]
  },
  {
   "cell_type": "code",
   "execution_count": 40,
   "metadata": {
    "id": "XFC6j6f4WFPC"
   },
   "outputs": [],
   "source": [
    "# Fully Connected Layer 6\n",
    "model.add(Dropout(0.2))\n",
    "model.add(Dense(10))\n",
    "model.add(Activation('softmax'))"
   ]
  },
  {
   "cell_type": "code",
   "execution_count": 41,
   "metadata": {
    "colab": {
     "base_uri": "https://localhost:8080/"
    },
    "id": "QmfTLRr8WlnG",
    "outputId": "e37a1a82-dbbc-4e45-f715-6cdd72ffaf1b"
   },
   "outputs": [
    {
     "name": "stdout",
     "output_type": "stream",
     "text": [
      "Model: \"sequential_1\"\n",
      "_________________________________________________________________\n",
      " Layer (type)                Output Shape              Param #   \n",
      "=================================================================\n",
      " conv2d (Conv2D)             (None, 26, 26, 32)        320       \n",
      "                                                                 \n",
      " batch_normalization (BatchN  (None, 26, 26, 32)       128       \n",
      " ormalization)                                                   \n",
      "                                                                 \n",
      " activation_3 (Activation)   (None, 26, 26, 32)        0         \n",
      "                                                                 \n",
      " conv2d_1 (Conv2D)           (None, 24, 24, 32)        9248      \n",
      "                                                                 \n",
      " batch_normalization_1 (Batc  (None, 24, 24, 32)       128       \n",
      " hNormalization)                                                 \n",
      "                                                                 \n",
      " activation_4 (Activation)   (None, 24, 24, 32)        0         \n",
      "                                                                 \n",
      " max_pooling2d (MaxPooling2D  (None, 12, 12, 32)       0         \n",
      " )                                                               \n",
      "                                                                 \n",
      " conv2d_2 (Conv2D)           (None, 10, 10, 64)        18496     \n",
      "                                                                 \n",
      " batch_normalization_2 (Batc  (None, 10, 10, 64)       256       \n",
      " hNormalization)                                                 \n",
      "                                                                 \n",
      " activation_5 (Activation)   (None, 10, 10, 64)        0         \n",
      "                                                                 \n",
      " conv2d_3 (Conv2D)           (None, 8, 8, 64)          36928     \n",
      "                                                                 \n",
      " batch_normalization_3 (Batc  (None, 8, 8, 64)         256       \n",
      " hNormalization)                                                 \n",
      "                                                                 \n",
      " max_pooling2d_1 (MaxPooling  (None, 4, 4, 64)         0         \n",
      " 2D)                                                             \n",
      "                                                                 \n",
      " flatten (Flatten)           (None, 1024)              0         \n",
      "                                                                 \n",
      " dense_3 (Dense)             (None, 512)               524800    \n",
      "                                                                 \n",
      " batch_normalization_4 (Batc  (None, 512)              2048      \n",
      " hNormalization)                                                 \n",
      "                                                                 \n",
      " activation_7 (Activation)   (None, 512)               0         \n",
      "                                                                 \n",
      " dropout_2 (Dropout)         (None, 512)               0         \n",
      "                                                                 \n",
      " dense_4 (Dense)             (None, 10)                5130      \n",
      "                                                                 \n",
      " activation_8 (Activation)   (None, 10)                0         \n",
      "                                                                 \n",
      "=================================================================\n",
      "Total params: 597,738\n",
      "Trainable params: 596,330\n",
      "Non-trainable params: 1,408\n",
      "_________________________________________________________________\n"
     ]
    }
   ],
   "source": [
    "model.summary()"
   ]
  },
  {
   "cell_type": "code",
   "execution_count": 42,
   "metadata": {
    "id": "xYtGORv8W0SH"
   },
   "outputs": [],
   "source": [
    "model.compile(loss='categorical_crossentropy', \n",
    "              optimizer = 'adam', metrics = ['accuracy'])"
   ]
  },
  {
   "cell_type": "code",
   "execution_count": 43,
   "metadata": {
    "id": "X1UXx3U0W1OC"
   },
   "outputs": [],
   "source": [
    "# data augmentation prevents overfitting by slightly changing the data randomly\n",
    "# Keras has a great built-in feature to do automatic augmentation\n",
    "gen = ImageDataGenerator(rotation_range=8, width_shift_range=0.08,\n",
    "                         shear_range=0.3,\n",
    "                         height_shift_range=0.08, zoom_range=0.08)\n",
    "test_gen = ImageDataGenerator()"
   ]
  },
  {
   "cell_type": "code",
   "execution_count": 44,
   "metadata": {
    "id": "cB6SRCKOYHYD"
   },
   "outputs": [],
   "source": [
    "train_generator = gen.flow(X_train,Y_train,batch_size = 128)\n",
    "test_generator = test_gen.flow(X_test, Y_test, batch_size = 128)"
   ]
  },
  {
   "cell_type": "code",
   "execution_count": 45,
   "metadata": {
    "colab": {
     "base_uri": "https://localhost:8080/"
    },
    "id": "D-qJj804Yw8M",
    "outputId": "06dc74e4-84b7-491a-e2b0-36af02b30ba4"
   },
   "outputs": [
    {
     "name": "stdout",
     "output_type": "stream",
     "text": [
      "Epoch 1/5\n"
     ]
    },
    {
     "name": "stderr",
     "output_type": "stream",
     "text": [
      "/usr/local/lib/python3.7/dist-packages/ipykernel_launcher.py:2: UserWarning: `Model.fit_generator` is deprecated and will be removed in a future version. Please use `Model.fit`, which supports generators.\n",
      "  \n"
     ]
    },
    {
     "name": "stdout",
     "output_type": "stream",
     "text": [
      "468/468 [==============================] - 192s 409ms/step - loss: 0.1341 - accuracy: 0.9589 - val_loss: 0.1167 - val_accuracy: 0.9629\n",
      "Epoch 2/5\n",
      "468/468 [==============================] - 191s 407ms/step - loss: 0.0534 - accuracy: 0.9834 - val_loss: 0.0498 - val_accuracy: 0.9843\n",
      "Epoch 3/5\n",
      "468/468 [==============================] - 192s 411ms/step - loss: 0.0421 - accuracy: 0.9870 - val_loss: 0.0318 - val_accuracy: 0.9901\n",
      "Epoch 4/5\n",
      "468/468 [==============================] - 191s 409ms/step - loss: 0.0358 - accuracy: 0.9890 - val_loss: 0.0424 - val_accuracy: 0.9867\n",
      "Epoch 5/5\n",
      "468/468 [==============================] - 191s 407ms/step - loss: 0.0312 - accuracy: 0.9903 - val_loss: 0.0279 - val_accuracy: 0.9906\n"
     ]
    },
    {
     "data": {
      "text/plain": [
       "<keras.callbacks.History at 0x7f3fdde53350>"
      ]
     },
     "execution_count": 45,
     "metadata": {},
     "output_type": "execute_result"
    }
   ],
   "source": [
    "model.fit_generator(train_generator, steps_per_epoch=60000//128,epochs=5, verbose = 1,\n",
    "                    validation_data = test_generator, validation_steps = 10000//128)"
   ]
  },
  {
   "cell_type": "code",
   "execution_count": 46,
   "metadata": {
    "colab": {
     "base_uri": "https://localhost:8080/"
    },
    "id": "frys3V4XcY6L",
    "outputId": "abed92f8-ba7a-477d-b7ff-389ecd2fffac"
   },
   "outputs": [
    {
     "name": "stdout",
     "output_type": "stream",
     "text": [
      "313/313 [==============================] - 10s 33ms/step - loss: 0.0279 - accuracy: 0.9906\n",
      "Test score: 0.027895567938685417\n",
      "Test accuracy: 0.9905999898910522\n"
     ]
    }
   ],
   "source": [
    "score = model.evaluate(X_test, Y_test)\n",
    "print('Test score:', score[0])\n",
    "print('Test accuracy:', score[1])"
   ]
  },
  {
   "cell_type": "code",
   "execution_count": null,
   "metadata": {
    "id": "qKbv3-rKA49p"
   },
   "outputs": [],
   "source": []
  }
 ],
 "metadata": {
  "colab": {
   "provenance": []
  },
  "kernelspec": {
   "display_name": "Python 3 (ipykernel)",
   "language": "python",
   "name": "python3"
  },
  "language_info": {
   "codemirror_mode": {
    "name": "ipython",
    "version": 3
   },
   "file_extension": ".py",
   "mimetype": "text/x-python",
   "name": "python",
   "nbconvert_exporter": "python",
   "pygments_lexer": "ipython3",
   "version": "3.9.12"
  }
 },
 "nbformat": 4,
 "nbformat_minor": 1
}
