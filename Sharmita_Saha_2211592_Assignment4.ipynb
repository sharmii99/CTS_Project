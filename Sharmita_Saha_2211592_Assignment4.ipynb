{
 "cells": [
  {
   "cell_type": "markdown",
   "metadata": {
    "id": "lUJoQDXCZPOW"
   },
   "source": [
    "### Installing pyspark and required JDK"
   ]
  },
  {
   "cell_type": "code",
   "execution_count": 1,
   "metadata": {
    "colab": {
     "base_uri": "https://localhost:8080/"
    },
    "id": "5MZUFcZUMaJf",
    "outputId": "49231398-593a-4407-a774-8e5015356ffb"
   },
   "outputs": [
    {
     "name": "stdout",
     "output_type": "stream",
     "text": [
      "Looking in indexes: https://pypi.org/simple, https://us-python.pkg.dev/colab-wheels/public/simple/\n",
      "Collecting pyspark\n",
      "  Downloading pyspark-3.3.1.tar.gz (281.4 MB)\n",
      "\u001b[K     |████████████████████████████████| 281.4 MB 45 kB/s \n",
      "\u001b[?25hCollecting py4j==0.10.9.5\n",
      "  Downloading py4j-0.10.9.5-py2.py3-none-any.whl (199 kB)\n",
      "\u001b[K     |████████████████████████████████| 199 kB 65.7 MB/s \n",
      "\u001b[?25hBuilding wheels for collected packages: pyspark\n",
      "  Building wheel for pyspark (setup.py) ... \u001b[?25l\u001b[?25hdone\n",
      "  Created wheel for pyspark: filename=pyspark-3.3.1-py2.py3-none-any.whl size=281845513 sha256=fb856482ed3dc1dd996218b75b127d9a59fc1be4c200ae6e5fb24bef120e4086\n",
      "  Stored in directory: /root/.cache/pip/wheels/42/59/f5/79a5bf931714dcd201b26025347785f087370a10a3329a899c\n",
      "Successfully built pyspark\n",
      "Installing collected packages: py4j, pyspark\n",
      "Successfully installed py4j-0.10.9.5 pyspark-3.3.1\n",
      "The following package was automatically installed and is no longer required:\n",
      "  libnvidia-common-460\n",
      "Use 'apt autoremove' to remove it.\n",
      "The following additional packages will be installed:\n",
      "  openjdk-8-jre-headless\n",
      "Suggested packages:\n",
      "  openjdk-8-demo openjdk-8-source libnss-mdns fonts-dejavu-extra\n",
      "  fonts-ipafont-gothic fonts-ipafont-mincho fonts-wqy-microhei\n",
      "  fonts-wqy-zenhei fonts-indic\n",
      "The following NEW packages will be installed:\n",
      "  openjdk-8-jdk-headless openjdk-8-jre-headless\n",
      "0 upgraded, 2 newly installed, 0 to remove and 27 not upgraded.\n",
      "Need to get 36.6 MB of archives.\n",
      "After this operation, 143 MB of additional disk space will be used.\n",
      "Selecting previously unselected package openjdk-8-jre-headless:amd64.\n",
      "(Reading database ... 123942 files and directories currently installed.)\n",
      "Preparing to unpack .../openjdk-8-jre-headless_8u342-b07-0ubuntu1~18.04_amd64.deb ...\n",
      "Unpacking openjdk-8-jre-headless:amd64 (8u342-b07-0ubuntu1~18.04) ...\n",
      "Selecting previously unselected package openjdk-8-jdk-headless:amd64.\n",
      "Preparing to unpack .../openjdk-8-jdk-headless_8u342-b07-0ubuntu1~18.04_amd64.deb ...\n",
      "Unpacking openjdk-8-jdk-headless:amd64 (8u342-b07-0ubuntu1~18.04) ...\n",
      "Setting up openjdk-8-jre-headless:amd64 (8u342-b07-0ubuntu1~18.04) ...\n",
      "update-alternatives: using /usr/lib/jvm/java-8-openjdk-amd64/jre/bin/orbd to provide /usr/bin/orbd (orbd) in auto mode\n",
      "update-alternatives: using /usr/lib/jvm/java-8-openjdk-amd64/jre/bin/servertool to provide /usr/bin/servertool (servertool) in auto mode\n",
      "update-alternatives: using /usr/lib/jvm/java-8-openjdk-amd64/jre/bin/tnameserv to provide /usr/bin/tnameserv (tnameserv) in auto mode\n",
      "Setting up openjdk-8-jdk-headless:amd64 (8u342-b07-0ubuntu1~18.04) ...\n",
      "update-alternatives: using /usr/lib/jvm/java-8-openjdk-amd64/bin/idlj to provide /usr/bin/idlj (idlj) in auto mode\n",
      "update-alternatives: using /usr/lib/jvm/java-8-openjdk-amd64/bin/wsimport to provide /usr/bin/wsimport (wsimport) in auto mode\n",
      "update-alternatives: using /usr/lib/jvm/java-8-openjdk-amd64/bin/jsadebugd to provide /usr/bin/jsadebugd (jsadebugd) in auto mode\n",
      "update-alternatives: using /usr/lib/jvm/java-8-openjdk-amd64/bin/native2ascii to provide /usr/bin/native2ascii (native2ascii) in auto mode\n",
      "update-alternatives: using /usr/lib/jvm/java-8-openjdk-amd64/bin/javah to provide /usr/bin/javah (javah) in auto mode\n",
      "update-alternatives: using /usr/lib/jvm/java-8-openjdk-amd64/bin/clhsdb to provide /usr/bin/clhsdb (clhsdb) in auto mode\n",
      "update-alternatives: using /usr/lib/jvm/java-8-openjdk-amd64/bin/xjc to provide /usr/bin/xjc (xjc) in auto mode\n",
      "update-alternatives: using /usr/lib/jvm/java-8-openjdk-amd64/bin/hsdb to provide /usr/bin/hsdb (hsdb) in auto mode\n",
      "update-alternatives: using /usr/lib/jvm/java-8-openjdk-amd64/bin/schemagen to provide /usr/bin/schemagen (schemagen) in auto mode\n",
      "update-alternatives: using /usr/lib/jvm/java-8-openjdk-amd64/bin/extcheck to provide /usr/bin/extcheck (extcheck) in auto mode\n",
      "update-alternatives: using /usr/lib/jvm/java-8-openjdk-amd64/bin/jhat to provide /usr/bin/jhat (jhat) in auto mode\n",
      "update-alternatives: using /usr/lib/jvm/java-8-openjdk-amd64/bin/wsgen to provide /usr/bin/wsgen (wsgen) in auto mode\n"
     ]
    }
   ],
   "source": [
    "!pip install pyspark\n",
    "!apt install openjdk-8-jdk-headless -qq"
   ]
  },
  {
   "cell_type": "markdown",
   "metadata": {
    "id": "Te9TdsWgZX2j"
   },
   "source": [
    "## Setting up the Environment"
   ]
  },
  {
   "cell_type": "code",
   "execution_count": 2,
   "metadata": {
    "id": "He24Aym6Mbai"
   },
   "outputs": [],
   "source": [
    "import os\n",
    "os.environ[\"JAVA_HOME\"] = \"/usr/lib/jvm/java-8-openjdk-amd64\""
   ]
  },
  {
   "cell_type": "markdown",
   "metadata": {
    "id": "NBzMcZrbFWRG"
   },
   "source": [
    "## **Getting the Data from Google Drive**"
   ]
  },
  {
   "cell_type": "code",
   "execution_count": 3,
   "metadata": {
    "id": "pdXYFlYXMwyW"
   },
   "outputs": [],
   "source": [
    "#To use file from cloud (google drive)\n",
    "!pip install -U -q PyDrive\n",
    "from pydrive.auth import GoogleAuth\n",
    "from pydrive.drive import GoogleDrive\n",
    "from google.colab import auth\n",
    "from oauth2client.client import GoogleCredentials\n",
    "auth.authenticate_user()\n",
    "gauth = GoogleAuth()\n",
    "gauth.credentials = GoogleCredentials.get_application_default()\n",
    "drive = GoogleDrive(gauth)"
   ]
  },
  {
   "cell_type": "code",
   "execution_count": 4,
   "metadata": {
    "id": "Shm5FjoOM8BU"
   },
   "outputs": [],
   "source": [
    "fileDownloaded = drive.CreateFile({'id':'1c_-z-Yp80qUd2I0ODSo61MUsz6gUfu5W'})\n",
    "fileDownloaded.GetContentFile('mini_spark_event_data.json')"
   ]
  },
  {
   "cell_type": "code",
   "execution_count": 5,
   "metadata": {
    "id": "O8Tu1Q25ND3f"
   },
   "outputs": [],
   "source": [
    "import numpy as np\n",
    "import pandas as pd\n",
    "from pyspark.sql import SparkSession\n",
    "from pyspark.sql.functions import udf\n",
    "from pyspark.sql import Window\n",
    "from pyspark.sql import functions as F\n",
    "from pyspark.sql.functions import sum as Fsum\n",
    "from pyspark.sql.types import ArrayType, BooleanType, LongType, FloatType, IntegerType\n",
    "from pyspark.sql.functions import lit, udf, struct, countDistinct, collect_list, avg, count, col\n",
    "from pyspark.ml.feature import VectorAssembler, Normalizer, StandardScaler\n",
    "from pyspark.ml.classification import LogisticRegression, RandomForestClassifier, GBTClassifier\n",
    "from pyspark.ml.evaluation import MulticlassClassificationEvaluator, BinaryClassificationEvaluator\n",
    "from pyspark.ml import Pipeline\n",
    "import matplotlib.pyplot as plt\n",
    "from sklearn.metrics import roc_curve\n",
    "from sklearn.metrics import precision_recall_curve\n",
    "from pyspark.ml.tuning import CrossValidator, ParamGridBuilder"
   ]
  },
  {
   "cell_type": "code",
   "execution_count": 6,
   "metadata": {
    "id": "Y7zap2kpNJqZ"
   },
   "outputs": [],
   "source": [
    "#create a spark session\n",
    "spark = SparkSession \\\n",
    "        .builder \\\n",
    "        .appName('Sharmita_Assgn4') \\\n",
    "        .getOrCreate()"
   ]
  },
  {
   "cell_type": "markdown",
   "metadata": {
    "id": "ir4Da1gKZs9q"
   },
   "source": [
    "## loading the dataset"
   ]
  },
  {
   "cell_type": "code",
   "execution_count": 7,
   "metadata": {
    "id": "xl7VMflqNM7y"
   },
   "outputs": [],
   "source": [
    "\n",
    "df = \"mini_spark_event_data.json\"\n",
    "df = spark.read.json(df)"
   ]
  },
  {
   "cell_type": "markdown",
   "metadata": {
    "id": "u_FtsA0tZ2MK"
   },
   "source": [
    "## Cleaning the Dataset"
   ]
  },
  {
   "cell_type": "code",
   "execution_count": 8,
   "metadata": {
    "id": "Q_1OmV54tYlX"
   },
   "outputs": [],
   "source": [
    "df = df.drop(*['artist','song','firstName', 'lastName', 'id_copy'])             # dropping some irrelevant columns\n",
    "df = df.dropna(how = 'any', subset = ['userId', 'sessionId'])                   # droppping some potential NA values\n",
    "df = df.filter(df.userId!='').orderBy([\"userId\", \"ts\"], ascending=[True, True]) # filtering out the invalid Ids\n",
    "df = df.withColumn(\"userId\", df[\"userId\"].cast(IntegerType()))"
   ]
  },
  {
   "cell_type": "code",
   "execution_count": 9,
   "metadata": {
    "id": "eH8ONNWlteL3"
   },
   "outputs": [],
   "source": [
    "#Defining the churn\n",
    "#These are the customers landing on the cancellation confirmation page\n",
    "\n",
    "cancelation = udf(lambda x: 1 if x == \"Cancellation Confirmation\" else 0,\n",
    "                   IntegerType())\n",
    "df = df.withColumn(\"churn\", cancelation(\"page\"))\n",
    "window = Window.partitionBy(\"userId\").rangeBetween(Window.unboundedPreceding,\n",
    "                                                   Window.unboundedFollowing)\n",
    "df = df.withColumn(\"churn\", Fsum(\"churn\").over(window))"
   ]
  },
  {
   "cell_type": "code",
   "execution_count": 10,
   "metadata": {
    "id": "aJHNhJ5ethef"
   },
   "outputs": [],
   "source": [
    "##Some new columns were made in this step to make the data exploration easier,\n",
    "# the Feature engineering step comes later\n",
    "# Making the level_shift Column\n",
    "# This column tells us how many times did the customer switched\n",
    "# from paid to free service\n",
    "window1 = Window.partitionBy().orderBy([\"userId\", \"ts\"])\n",
    "df = df.withColumn(\"level_shift\", (df.level!=F.lag(df.level).over(window1)) | \n",
    "                   (df.userId!=F.lag(df.userId).over(window1)))\n",
    "df=df.fillna({'level_shift':0})\n",
    "df= df.withColumn(\"level_shift\", F.when(df[\"level_shift\"]==False, 0).otherwise(1))"
   ]
  },
  {
   "cell_type": "code",
   "execution_count": 11,
   "metadata": {
    "id": "ptHfL2Xttjrq"
   },
   "outputs": [],
   "source": [
    "# Making the last_ts column\n",
    "# This column will help us to select only records that happened in the\n",
    "# last 2 weeks of customer activity\n",
    "# The idea is that customer behavior should be different shortly before\n",
    "# the churn happened\n",
    "df= df.withColumn(\"ts\", df.ts/1000)                        # trimming the last three zeros from the UNIX time (miliseconds)\n",
    "df= df.withColumn(\"registration\", df.registration/1000)"
   ]
  },
  {
   "cell_type": "code",
   "execution_count": 12,
   "metadata": {
    "id": "gUv85n3mtldg"
   },
   "outputs": [],
   "source": [
    "window2 = Window.partitionBy(\"userId\")\n",
    "df= df.withColumn(\"last_ts\", F.max('ts').over(window2))\n",
    "df=df.filter(df.last_ts - df.ts < 1300000) # approx no of sec in a 2 weeks"
   ]
  },
  {
   "cell_type": "code",
   "execution_count": 13,
   "metadata": {
    "id": "LBYfvANStnWW"
   },
   "outputs": [],
   "source": [
    "# Making the Columns: pages_per_session, diff_time\n",
    "# pages_per_session is number of pages per session\n",
    "# diff_time is a number of days since a specific page was visited\n",
    "window3 = Window.partitionBy([\"userId\", \"sessionId\"])\n",
    "df= df.withColumn(\"pages_per_session\", F.max('ItemInSession').over(window3))\n",
    "df = df.withColumn(\"ts_time\",F.to_timestamp(df.ts))                    #  unix to datetime\n",
    "df = df.withColumn(\"last_ts_time\",F.to_timestamp(df.last_ts))          # unix to datetime"
   ]
  },
  {
   "cell_type": "code",
   "execution_count": 14,
   "metadata": {
    "id": "HwzUikqItpMZ"
   },
   "outputs": [],
   "source": [
    "df = df.withColumn(\"diff_time\",F.datediff(df.last_ts_time, df.ts_time))\n",
    "  # how many days ago was the page visited\n",
    "df=df.orderBy([\"userId\", \"ts\"], ascending=[True, True])\n",
    "\n",
    "df.createOrReplaceTempView('data');                                    # Create a Temp Table to be used for SQL queries"
   ]
  },
  {
   "cell_type": "code",
   "execution_count": 15,
   "metadata": {
    "colab": {
     "base_uri": "https://localhost:8080/",
     "height": 310
    },
    "id": "U6t4igqytrsK",
    "outputId": "485ca1fc-f748-491c-aca8-3e157749d4b4"
   },
   "outputs": [
    {
     "data": {
      "text/html": [
       "\n",
       "  <div id=\"df-0991154c-cd2a-4d87-9300-dc671ee7893f\">\n",
       "    <div class=\"colab-df-container\">\n",
       "      <div>\n",
       "<style scoped>\n",
       "    .dataframe tbody tr th:only-of-type {\n",
       "        vertical-align: middle;\n",
       "    }\n",
       "\n",
       "    .dataframe tbody tr th {\n",
       "        vertical-align: top;\n",
       "    }\n",
       "\n",
       "    .dataframe thead th {\n",
       "        text-align: right;\n",
       "    }\n",
       "</style>\n",
       "<table border=\"1\" class=\"dataframe\">\n",
       "  <thead>\n",
       "    <tr style=\"text-align: right;\">\n",
       "      <th></th>\n",
       "      <th>auth</th>\n",
       "      <th>gender</th>\n",
       "      <th>itemInSession</th>\n",
       "      <th>length</th>\n",
       "      <th>level</th>\n",
       "      <th>location</th>\n",
       "      <th>method</th>\n",
       "      <th>page</th>\n",
       "      <th>registration</th>\n",
       "      <th>sessionId</th>\n",
       "      <th>...</th>\n",
       "      <th>ts</th>\n",
       "      <th>userAgent</th>\n",
       "      <th>userId</th>\n",
       "      <th>churn</th>\n",
       "      <th>level_shift</th>\n",
       "      <th>last_ts</th>\n",
       "      <th>pages_per_session</th>\n",
       "      <th>ts_time</th>\n",
       "      <th>last_ts_time</th>\n",
       "      <th>diff_time</th>\n",
       "    </tr>\n",
       "  </thead>\n",
       "  <tbody>\n",
       "    <tr>\n",
       "      <th>0</th>\n",
       "      <td>Logged In</td>\n",
       "      <td>F</td>\n",
       "      <td>0</td>\n",
       "      <td>250.82730</td>\n",
       "      <td>paid</td>\n",
       "      <td>Raleigh, NC</td>\n",
       "      <td>PUT</td>\n",
       "      <td>NextSong</td>\n",
       "      <td>1.536800e+09</td>\n",
       "      <td>1639</td>\n",
       "      <td>...</td>\n",
       "      <td>1.542150e+09</td>\n",
       "      <td>\"Mozilla/5.0 (Windows NT 6.1; WOW64) AppleWebK...</td>\n",
       "      <td>2</td>\n",
       "      <td>0</td>\n",
       "      <td>0</td>\n",
       "      <td>1.542839e+09</td>\n",
       "      <td>192</td>\n",
       "      <td>2018-11-13 22:51:43</td>\n",
       "      <td>2018-11-21 22:30:04</td>\n",
       "      <td>8</td>\n",
       "    </tr>\n",
       "    <tr>\n",
       "      <th>1</th>\n",
       "      <td>Logged In</td>\n",
       "      <td>F</td>\n",
       "      <td>1</td>\n",
       "      <td>148.55791</td>\n",
       "      <td>paid</td>\n",
       "      <td>Raleigh, NC</td>\n",
       "      <td>PUT</td>\n",
       "      <td>NextSong</td>\n",
       "      <td>1.536800e+09</td>\n",
       "      <td>1639</td>\n",
       "      <td>...</td>\n",
       "      <td>1.542150e+09</td>\n",
       "      <td>\"Mozilla/5.0 (Windows NT 6.1; WOW64) AppleWebK...</td>\n",
       "      <td>2</td>\n",
       "      <td>0</td>\n",
       "      <td>0</td>\n",
       "      <td>1.542839e+09</td>\n",
       "      <td>192</td>\n",
       "      <td>2018-11-13 22:55:53</td>\n",
       "      <td>2018-11-21 22:30:04</td>\n",
       "      <td>8</td>\n",
       "    </tr>\n",
       "  </tbody>\n",
       "</table>\n",
       "<p>2 rows × 21 columns</p>\n",
       "</div>\n",
       "      <button class=\"colab-df-convert\" onclick=\"convertToInteractive('df-0991154c-cd2a-4d87-9300-dc671ee7893f')\"\n",
       "              title=\"Convert this dataframe to an interactive table.\"\n",
       "              style=\"display:none;\">\n",
       "        \n",
       "  <svg xmlns=\"http://www.w3.org/2000/svg\" height=\"24px\"viewBox=\"0 0 24 24\"\n",
       "       width=\"24px\">\n",
       "    <path d=\"M0 0h24v24H0V0z\" fill=\"none\"/>\n",
       "    <path d=\"M18.56 5.44l.94 2.06.94-2.06 2.06-.94-2.06-.94-.94-2.06-.94 2.06-2.06.94zm-11 1L8.5 8.5l.94-2.06 2.06-.94-2.06-.94L8.5 2.5l-.94 2.06-2.06.94zm10 10l.94 2.06.94-2.06 2.06-.94-2.06-.94-.94-2.06-.94 2.06-2.06.94z\"/><path d=\"M17.41 7.96l-1.37-1.37c-.4-.4-.92-.59-1.43-.59-.52 0-1.04.2-1.43.59L10.3 9.45l-7.72 7.72c-.78.78-.78 2.05 0 2.83L4 21.41c.39.39.9.59 1.41.59.51 0 1.02-.2 1.41-.59l7.78-7.78 2.81-2.81c.8-.78.8-2.07 0-2.86zM5.41 20L4 18.59l7.72-7.72 1.47 1.35L5.41 20z\"/>\n",
       "  </svg>\n",
       "      </button>\n",
       "      \n",
       "  <style>\n",
       "    .colab-df-container {\n",
       "      display:flex;\n",
       "      flex-wrap:wrap;\n",
       "      gap: 12px;\n",
       "    }\n",
       "\n",
       "    .colab-df-convert {\n",
       "      background-color: #E8F0FE;\n",
       "      border: none;\n",
       "      border-radius: 50%;\n",
       "      cursor: pointer;\n",
       "      display: none;\n",
       "      fill: #1967D2;\n",
       "      height: 32px;\n",
       "      padding: 0 0 0 0;\n",
       "      width: 32px;\n",
       "    }\n",
       "\n",
       "    .colab-df-convert:hover {\n",
       "      background-color: #E2EBFA;\n",
       "      box-shadow: 0px 1px 2px rgba(60, 64, 67, 0.3), 0px 1px 3px 1px rgba(60, 64, 67, 0.15);\n",
       "      fill: #174EA6;\n",
       "    }\n",
       "\n",
       "    [theme=dark] .colab-df-convert {\n",
       "      background-color: #3B4455;\n",
       "      fill: #D2E3FC;\n",
       "    }\n",
       "\n",
       "    [theme=dark] .colab-df-convert:hover {\n",
       "      background-color: #434B5C;\n",
       "      box-shadow: 0px 1px 3px 1px rgba(0, 0, 0, 0.15);\n",
       "      filter: drop-shadow(0px 1px 2px rgba(0, 0, 0, 0.3));\n",
       "      fill: #FFFFFF;\n",
       "    }\n",
       "  </style>\n",
       "\n",
       "      <script>\n",
       "        const buttonEl =\n",
       "          document.querySelector('#df-0991154c-cd2a-4d87-9300-dc671ee7893f button.colab-df-convert');\n",
       "        buttonEl.style.display =\n",
       "          google.colab.kernel.accessAllowed ? 'block' : 'none';\n",
       "\n",
       "        async function convertToInteractive(key) {\n",
       "          const element = document.querySelector('#df-0991154c-cd2a-4d87-9300-dc671ee7893f');\n",
       "          const dataTable =\n",
       "            await google.colab.kernel.invokeFunction('convertToInteractive',\n",
       "                                                     [key], {});\n",
       "          if (!dataTable) return;\n",
       "\n",
       "          const docLinkHtml = 'Like what you see? Visit the ' +\n",
       "            '<a target=\"_blank\" href=https://colab.research.google.com/notebooks/data_table.ipynb>data table notebook</a>'\n",
       "            + ' to learn more about interactive tables.';\n",
       "          element.innerHTML = '';\n",
       "          dataTable['output_type'] = 'display_data';\n",
       "          await google.colab.output.renderOutput(dataTable, element);\n",
       "          const docLink = document.createElement('div');\n",
       "          docLink.innerHTML = docLinkHtml;\n",
       "          element.appendChild(docLink);\n",
       "        }\n",
       "      </script>\n",
       "    </div>\n",
       "  </div>\n",
       "  "
      ],
      "text/plain": [
       "        auth gender  itemInSession     length level     location method  \\\n",
       "0  Logged In      F              0  250.82730  paid  Raleigh, NC    PUT   \n",
       "1  Logged In      F              1  148.55791  paid  Raleigh, NC    PUT   \n",
       "\n",
       "       page  registration  sessionId  ...            ts  \\\n",
       "0  NextSong  1.536800e+09       1639  ...  1.542150e+09   \n",
       "1  NextSong  1.536800e+09       1639  ...  1.542150e+09   \n",
       "\n",
       "                                           userAgent userId  churn  \\\n",
       "0  \"Mozilla/5.0 (Windows NT 6.1; WOW64) AppleWebK...      2      0   \n",
       "1  \"Mozilla/5.0 (Windows NT 6.1; WOW64) AppleWebK...      2      0   \n",
       "\n",
       "   level_shift       last_ts  pages_per_session             ts_time  \\\n",
       "0            0  1.542839e+09                192 2018-11-13 22:51:43   \n",
       "1            0  1.542839e+09                192 2018-11-13 22:55:53   \n",
       "\n",
       "         last_ts_time diff_time  \n",
       "0 2018-11-21 22:30:04         8  \n",
       "1 2018-11-21 22:30:04         8  \n",
       "\n",
       "[2 rows x 21 columns]"
      ]
     },
     "execution_count": 15,
     "metadata": {},
     "output_type": "execute_result"
    }
   ],
   "source": [
    "#Data Preview\n",
    "df.limit(2).toPandas()"
   ]
  },
  {
   "cell_type": "code",
   "execution_count": 16,
   "metadata": {
    "colab": {
     "base_uri": "https://localhost:8080/"
    },
    "id": "lwlroojpttlK",
    "outputId": "a7117b58-a3d7-4fe3-fdc9-b73ef5e2123b"
   },
   "outputs": [
    {
     "name": "stdout",
     "output_type": "stream",
     "text": [
      "+--------------------+-----------+\n",
      "|                page|count(page)|\n",
      "+--------------------+-----------+\n",
      "|              Cancel|         52|\n",
      "|    Submit Downgrade|         16|\n",
      "|         Thumbs Down|        917|\n",
      "|                Home|       3701|\n",
      "|           Downgrade|        821|\n",
      "|         Roll Advert|       1308|\n",
      "|              Logout|       1201|\n",
      "|       Save Settings|        126|\n",
      "|Cancellation Conf...|         52|\n",
      "|               About|        183|\n",
      "|            Settings|        607|\n",
      "|     Add to Playlist|       2380|\n",
      "|          Add Friend|       1613|\n",
      "|            NextSong|      85017|\n",
      "|           Thumbs Up|       4479|\n",
      "|                Help|        537|\n",
      "|             Upgrade|        154|\n",
      "|               Error|         80|\n",
      "|      Submit Upgrade|         37|\n",
      "+--------------------+-----------+\n",
      "\n"
     ]
    }
   ],
   "source": [
    "# The column \"page\" seems to be most informative in the whole dataset\n",
    "# It shows which pages of the service were visited by users, timestamp is also provided\n",
    "# This column can be used to engineer useful features\n",
    "df.select('page','UserId').groupby('page').agg({'page':'count'}).select('page','count(page)').show()"
   ]
  },
  {
   "cell_type": "code",
   "execution_count": 17,
   "metadata": {
    "colab": {
     "base_uri": "https://localhost:8080/"
    },
    "id": "rrL8WwKot0CV",
    "outputId": "27f77c2a-143b-4b27-9ea7-6d6d9ae4ae57"
   },
   "outputs": [
    {
     "name": "stdout",
     "output_type": "stream",
     "text": [
      "root\n",
      " |-- auth: string (nullable = true)\n",
      " |-- gender: string (nullable = true)\n",
      " |-- itemInSession: long (nullable = true)\n",
      " |-- length: double (nullable = true)\n",
      " |-- level: string (nullable = true)\n",
      " |-- location: string (nullable = true)\n",
      " |-- method: string (nullable = true)\n",
      " |-- page: string (nullable = true)\n",
      " |-- registration: double (nullable = true)\n",
      " |-- sessionId: long (nullable = true)\n",
      " |-- status: long (nullable = true)\n",
      " |-- ts: double (nullable = true)\n",
      " |-- userAgent: string (nullable = true)\n",
      " |-- userId: integer (nullable = true)\n",
      " |-- churn: long (nullable = true)\n",
      " |-- level_shift: integer (nullable = false)\n",
      " |-- last_ts: double (nullable = true)\n",
      " |-- pages_per_session: long (nullable = true)\n",
      " |-- ts_time: timestamp (nullable = true)\n",
      " |-- last_ts_time: timestamp (nullable = true)\n",
      " |-- diff_time: integer (nullable = true)\n",
      "\n"
     ]
    }
   ],
   "source": [
    "df.printSchema();"
   ]
  },
  {
   "cell_type": "code",
   "execution_count": 18,
   "metadata": {
    "colab": {
     "base_uri": "https://localhost:8080/",
     "height": 176
    },
    "id": "f7grSwEpt23d",
    "outputId": "cfd88aad-ac82-40db-a4c4-26e66d68870a"
   },
   "outputs": [
    {
     "data": {
      "text/html": [
       "\n",
       "  <div id=\"df-9f362d7b-4256-4921-b5d5-ac68ebaee066\">\n",
       "    <div class=\"colab-df-container\">\n",
       "      <div>\n",
       "<style scoped>\n",
       "    .dataframe tbody tr th:only-of-type {\n",
       "        vertical-align: middle;\n",
       "    }\n",
       "\n",
       "    .dataframe tbody tr th {\n",
       "        vertical-align: top;\n",
       "    }\n",
       "\n",
       "    .dataframe thead th {\n",
       "        text-align: right;\n",
       "    }\n",
       "</style>\n",
       "<table border=\"1\" class=\"dataframe\">\n",
       "  <thead>\n",
       "    <tr style=\"text-align: right;\">\n",
       "      <th></th>\n",
       "      <th>label</th>\n",
       "      <th>cnt</th>\n",
       "      <th>song_count</th>\n",
       "      <th>error</th>\n",
       "      <th>friends</th>\n",
       "      <th>playlist_count</th>\n",
       "      <th>thumbs_up</th>\n",
       "      <th>thumbs_down</th>\n",
       "      <th>downgrade</th>\n",
       "      <th>count_session_dist</th>\n",
       "      <th>count_diff_time</th>\n",
       "      <th>pages_per_session</th>\n",
       "      <th>duration</th>\n",
       "      <th>level_shift</th>\n",
       "      <th>usage_time</th>\n",
       "    </tr>\n",
       "  </thead>\n",
       "  <tbody>\n",
       "    <tr>\n",
       "      <th>0</th>\n",
       "      <td>0</td>\n",
       "      <td>173</td>\n",
       "      <td>360.803468</td>\n",
       "      <td>0.335260</td>\n",
       "      <td>7.098266</td>\n",
       "      <td>10.017341</td>\n",
       "      <td>19.132948</td>\n",
       "      <td>3.560694</td>\n",
       "      <td>3.358382</td>\n",
       "      <td>4.583815</td>\n",
       "      <td>4.786127</td>\n",
       "      <td>106.386183</td>\n",
       "      <td>86.620619</td>\n",
       "      <td>0.265896</td>\n",
       "      <td>89989.124825</td>\n",
       "    </tr>\n",
       "    <tr>\n",
       "      <th>1</th>\n",
       "      <td>1</td>\n",
       "      <td>52</td>\n",
       "      <td>434.576923</td>\n",
       "      <td>0.423077</td>\n",
       "      <td>7.403846</td>\n",
       "      <td>12.442308</td>\n",
       "      <td>22.480769</td>\n",
       "      <td>5.788462</td>\n",
       "      <td>4.615385</td>\n",
       "      <td>5.596154</td>\n",
       "      <td>5.480769</td>\n",
       "      <td>92.803856</td>\n",
       "      <td>57.305993</td>\n",
       "      <td>0.730769</td>\n",
       "      <td>108072.679578</td>\n",
       "    </tr>\n",
       "  </tbody>\n",
       "</table>\n",
       "</div>\n",
       "      <button class=\"colab-df-convert\" onclick=\"convertToInteractive('df-9f362d7b-4256-4921-b5d5-ac68ebaee066')\"\n",
       "              title=\"Convert this dataframe to an interactive table.\"\n",
       "              style=\"display:none;\">\n",
       "        \n",
       "  <svg xmlns=\"http://www.w3.org/2000/svg\" height=\"24px\"viewBox=\"0 0 24 24\"\n",
       "       width=\"24px\">\n",
       "    <path d=\"M0 0h24v24H0V0z\" fill=\"none\"/>\n",
       "    <path d=\"M18.56 5.44l.94 2.06.94-2.06 2.06-.94-2.06-.94-.94-2.06-.94 2.06-2.06.94zm-11 1L8.5 8.5l.94-2.06 2.06-.94-2.06-.94L8.5 2.5l-.94 2.06-2.06.94zm10 10l.94 2.06.94-2.06 2.06-.94-2.06-.94-.94-2.06-.94 2.06-2.06.94z\"/><path d=\"M17.41 7.96l-1.37-1.37c-.4-.4-.92-.59-1.43-.59-.52 0-1.04.2-1.43.59L10.3 9.45l-7.72 7.72c-.78.78-.78 2.05 0 2.83L4 21.41c.39.39.9.59 1.41.59.51 0 1.02-.2 1.41-.59l7.78-7.78 2.81-2.81c.8-.78.8-2.07 0-2.86zM5.41 20L4 18.59l7.72-7.72 1.47 1.35L5.41 20z\"/>\n",
       "  </svg>\n",
       "      </button>\n",
       "      \n",
       "  <style>\n",
       "    .colab-df-container {\n",
       "      display:flex;\n",
       "      flex-wrap:wrap;\n",
       "      gap: 12px;\n",
       "    }\n",
       "\n",
       "    .colab-df-convert {\n",
       "      background-color: #E8F0FE;\n",
       "      border: none;\n",
       "      border-radius: 50%;\n",
       "      cursor: pointer;\n",
       "      display: none;\n",
       "      fill: #1967D2;\n",
       "      height: 32px;\n",
       "      padding: 0 0 0 0;\n",
       "      width: 32px;\n",
       "    }\n",
       "\n",
       "    .colab-df-convert:hover {\n",
       "      background-color: #E2EBFA;\n",
       "      box-shadow: 0px 1px 2px rgba(60, 64, 67, 0.3), 0px 1px 3px 1px rgba(60, 64, 67, 0.15);\n",
       "      fill: #174EA6;\n",
       "    }\n",
       "\n",
       "    [theme=dark] .colab-df-convert {\n",
       "      background-color: #3B4455;\n",
       "      fill: #D2E3FC;\n",
       "    }\n",
       "\n",
       "    [theme=dark] .colab-df-convert:hover {\n",
       "      background-color: #434B5C;\n",
       "      box-shadow: 0px 1px 3px 1px rgba(0, 0, 0, 0.15);\n",
       "      filter: drop-shadow(0px 1px 2px rgba(0, 0, 0, 0.3));\n",
       "      fill: #FFFFFF;\n",
       "    }\n",
       "  </style>\n",
       "\n",
       "      <script>\n",
       "        const buttonEl =\n",
       "          document.querySelector('#df-9f362d7b-4256-4921-b5d5-ac68ebaee066 button.colab-df-convert');\n",
       "        buttonEl.style.display =\n",
       "          google.colab.kernel.accessAllowed ? 'block' : 'none';\n",
       "\n",
       "        async function convertToInteractive(key) {\n",
       "          const element = document.querySelector('#df-9f362d7b-4256-4921-b5d5-ac68ebaee066');\n",
       "          const dataTable =\n",
       "            await google.colab.kernel.invokeFunction('convertToInteractive',\n",
       "                                                     [key], {});\n",
       "          if (!dataTable) return;\n",
       "\n",
       "          const docLinkHtml = 'Like what you see? Visit the ' +\n",
       "            '<a target=\"_blank\" href=https://colab.research.google.com/notebooks/data_table.ipynb>data table notebook</a>'\n",
       "            + ' to learn more about interactive tables.';\n",
       "          element.innerHTML = '';\n",
       "          dataTable['output_type'] = 'display_data';\n",
       "          await google.colab.output.renderOutput(dataTable, element);\n",
       "          const docLink = document.createElement('div');\n",
       "          docLink.innerHTML = docLinkHtml;\n",
       "          element.appendChild(docLink);\n",
       "        }\n",
       "      </script>\n",
       "    </div>\n",
       "  </div>\n",
       "  "
      ],
      "text/plain": [
       "   label  cnt  song_count     error   friends  playlist_count  thumbs_up  \\\n",
       "0      0  173  360.803468  0.335260  7.098266       10.017341  19.132948   \n",
       "1      1   52  434.576923  0.423077  7.403846       12.442308  22.480769   \n",
       "\n",
       "   thumbs_down  downgrade  count_session_dist  count_diff_time  \\\n",
       "0     3.560694   3.358382            4.583815         4.786127   \n",
       "1     5.788462   4.615385            5.596154         5.480769   \n",
       "\n",
       "   pages_per_session   duration  level_shift     usage_time  \n",
       "0         106.386183  86.620619     0.265896   89989.124825  \n",
       "1          92.803856  57.305993     0.730769  108072.679578  "
      ]
     },
     "execution_count": 18,
     "metadata": {},
     "output_type": "execute_result"
    }
   ],
   "source": [
    "# Investigation if there are differences between churned and non-churned users\n",
    "# label             - 0 if non_churned, 1 if churned\n",
    "# song_count        - avg number of songs played by churned/non_churned users\n",
    "# error             - avg number of errors occuring \n",
    "# friends           - avg number of \"friends\" on thhe application\n",
    "# playlist_count    - avg number of visits to the Playlist page\n",
    "# thumbs_up         - avg number of clicking the 'thumbs up'\n",
    "# thumbs_down       - avg number of clicking the 'thumbs down'\n",
    "# downgrade         - avg number of visits to the downgrade page\n",
    "# count_session_dist- avg number of sessions made\n",
    "# count_diff_time   - avg number of days (in the last two weeks) in which the user used the app\n",
    "# pages per session - avg numbers of pages (or any activity or changes) per session\n",
    "# duration          - avg number of days since the user joined (division with 86400 as a proxy of seconds within a day)\n",
    "# level_shift       - avg number of level changes (free, paid) per customer\n",
    "# usage_time        - avg total time spent using the app\n",
    "stats = spark.sql(\" WITH prep as( \\\n",
    "SELECT userId, \\\n",
    "max(churn)                                                          as label, \\\n",
    "count(case when page = 'NextSong' then userId else null end)        as song_count, \\\n",
    "count(case when page = 'Error' then userId else null end)           as error, \\\n",
    "count(case when page = 'Add Friend' then userId else null end)      as friends, \\\n",
    "count(case when page = 'Add to Playlist' then userId else null end) as playlist_count, \\\n",
    "count(case when page = 'Thumbs Up' then userId else null end)       as thumbs_up, \\\n",
    "count(case when page = 'Thumbs Down' then userId else null end)     as thumbs_down, \\\n",
    "count(case when page = 'Downgrade' then userId else null end)       as downgrade, \\\n",
    "count(distinct sessionId)                                           as count_session_dist, \\\n",
    "count(distinct diff_time)                                           as count_diff_time, \\\n",
    "avg(distinct pages_per_session)                                     as pages_per_session, \\\n",
    "(max(ts) - min(registration))/86400                                 as duration, \\\n",
    "sum(level_shift)                                                    as level_shift, \\\n",
    "sum(length)                                                         as usage_time \\\n",
    "FROM data \\\n",
    "GROUP BY userId) \\\n",
    "SELECT label, \\\n",
    "count(label)             as cnt, \\\n",
    "avg(song_count)          as song_count, \\\n",
    "avg(error)               as error, \\\n",
    "avg(friends)             as friends, \\\n",
    "avg(playlist_count)      as playlist_count, \\\n",
    "avg(thumbs_up)           as thumbs_up, \\\n",
    "avg(thumbs_down)         as thumbs_down, \\\n",
    "avg(downgrade)           as downgrade, \\\n",
    "avg(count_session_dist)  as count_session_dist, \\\n",
    "avg(count_diff_time)     as count_diff_time, \\\n",
    "avg(pages_per_session)   as pages_per_session, \\\n",
    "avg(duration)            as duration, \\\n",
    "avg (level_shift)        as level_shift, \\\n",
    "avg(usage_time)          as usage_time \\\n",
    "FROM prep \\\n",
    "GROUP BY label\")\n",
    "# We can see that for most dimensions/features there are differences between\n",
    "# churned and non-churned users\n",
    "stats.toPandas()"
   ]
  },
  {
   "cell_type": "code",
   "execution_count": 19,
   "metadata": {
    "id": "Go69glIXt5_z"
   },
   "outputs": [],
   "source": [
    "# Feature Enigneering\n",
    "# Based on the previous analysis, all 14 investigated features will be included. \n",
    "# Here I am making a Temp Table which holds all the features.\n",
    "# The temp table will be used as model input\n",
    "# All data is aggregated per userId\n",
    "features = spark.sql(\"SELECT userId, \\\n",
    "max(churn)                                                          as label, \\\n",
    "count(case when page = 'NextSong' then userId else null end)        as song_count, \\\n",
    "count(case when page = 'Error' then userId else null end)           as error, \\\n",
    "count(case when page = 'Add Friend' then userId else null end)      as friends, \\\n",
    "count(case when page = 'Add to Playlist' then userId else null end) as playlist_count, \\\n",
    "count(case when page = 'Thumbs Up' then userId else null end)       as thumbs_up, \\\n",
    "count(case when page = 'Thumbs Down' then userId else null end)     as thumbs_down, \\\n",
    "count(case when page = 'Downgrade' then userId else null end)       as downgrade, \\\n",
    "count(distinct sessionId)                                           as count_session_dist, \\\n",
    "count(distinct diff_time)                                           as count_diff_time, \\\n",
    "round(avg(distinct pages_per_session),0)                            as pages_per_session, \\\n",
    "round((max(ts) - min(registration))/86400,0)                        as duration, \\\n",
    "round(sum(level_shift),0)                                           as level_shift, \\\n",
    "round(sum(length),0)                                                as usage_time \\\n",
    "FROM data \\\n",
    "GROUP BY userId\");\n",
    "features.createOrReplaceTempView('features');\n",
    "features=features.na.drop()"
   ]
  },
  {
   "cell_type": "code",
   "execution_count": 20,
   "metadata": {
    "id": "dEPeFv5Et9hD"
   },
   "outputs": [],
   "source": [
    "#Train test split\n",
    "training, test = features.randomSplit([0.8,0.2])"
   ]
  },
  {
   "cell_type": "code",
   "execution_count": 21,
   "metadata": {
    "id": "HHd8JXG5t_lA"
   },
   "outputs": [],
   "source": [
    "# Make VectorAssembler - this is a Pypark specific step\n",
    "# All input features must be in one column before feeding into the model\n",
    "assembler = VectorAssembler(inputCols=[\"userId\",\"song_count\",\"error\",\"friends\",\"playlist_count\", \\\n",
    "                                       \"thumbs_up\",\"thumbs_down\",\"downgrade\", \"count_session_dist\",\\\n",
    "                                       \"count_diff_time\",\"pages_per_session\", \"duration\",\"level_shift\",\\\n",
    "                                       \"usage_time\"], \\\n",
    "                            outputCol=\"inputFeatures\")"
   ]
  },
  {
   "cell_type": "code",
   "execution_count": 22,
   "metadata": {
    "id": "Z_939bzmuBOf"
   },
   "outputs": [],
   "source": [
    "#Normalize Data\n",
    "scaler = Normalizer(inputCol = \"inputFeatures\",outputCol=\"features\")"
   ]
  },
  {
   "cell_type": "code",
   "execution_count": 23,
   "metadata": {
    "id": "p3N06y8RuC21"
   },
   "outputs": [],
   "source": [
    "lr = LogisticRegression()\n",
    "gbt = GBTClassifier()\n",
    "rf = RandomForestClassifier()"
   ]
  },
  {
   "cell_type": "code",
   "execution_count": 24,
   "metadata": {
    "id": "9bQXwdrmuEq_"
   },
   "outputs": [],
   "source": [
    "#Building pipelines\n",
    "pipeline1 = Pipeline(stages=[assembler, scaler,lr])\n",
    "pipeline2 = Pipeline(stages=[assembler, scaler,gbt])\n",
    "pipeline3 = Pipeline(stages=[assembler, scaler,rf])"
   ]
  },
  {
   "cell_type": "markdown",
   "metadata": {
    "id": "ts7VQdvWZ_yZ"
   },
   "source": [
    "## Logistic Regression"
   ]
  },
  {
   "cell_type": "code",
   "execution_count": 25,
   "metadata": {
    "id": "PF30DsasuGWZ"
   },
   "outputs": [],
   "source": [
    "# metric chosen is f1 (we want to catch true positives (churn customers), but\n",
    "# we do not want to waste money on false positives (investing in retaining \n",
    "# non-churn customers, which are loyal anyway)\n",
    "# Note that Recall might also be justified to use here (if the cost offalse\n",
    "# positives is low)\n",
    "paramgrid =ParamGridBuilder()\\\n",
    ".addGrid(lr.regParam, [0.0, 0,1])\\\n",
    ".addGrid(lr.maxIter, [10])\\\n",
    ".build()"
   ]
  },
  {
   "cell_type": "code",
   "execution_count": 26,
   "metadata": {
    "id": "wNIn9QwRuH7d"
   },
   "outputs": [],
   "source": [
    "evaluator = MulticlassClassificationEvaluator(metricName=\"f1\")"
   ]
  },
  {
   "cell_type": "code",
   "execution_count": 27,
   "metadata": {
    "id": "rv0pM8nDuJc1"
   },
   "outputs": [],
   "source": [
    "crossval= CrossValidator(estimator=pipeline1,  \n",
    "                         estimatorParamMaps=paramgrid,\n",
    "                         evaluator = evaluator , \n",
    "                         numFolds=3\n",
    "                        )"
   ]
  },
  {
   "cell_type": "code",
   "execution_count": 28,
   "metadata": {
    "id": "EXxSmdiJuLDH"
   },
   "outputs": [],
   "source": [
    "cvModel1 = crossval.fit(training)"
   ]
  },
  {
   "cell_type": "code",
   "execution_count": 29,
   "metadata": {
    "colab": {
     "base_uri": "https://localhost:8080/"
    },
    "id": "1KpBLCKquMtu",
    "outputId": "d04cdf6c-c24b-47ba-9178-7dcdcd3fd068"
   },
   "outputs": [
    {
     "data": {
      "text/plain": [
       "0.5890063424947147"
      ]
     },
     "execution_count": 29,
     "metadata": {},
     "output_type": "execute_result"
    }
   ],
   "source": [
    "evaluator.evaluate(cvModel1.transform(test))"
   ]
  },
  {
   "cell_type": "markdown",
   "metadata": {
    "id": "bp_Q6ZGv7yQo"
   },
   "source": [
    "# Gradient Boosted tree Classifier"
   ]
  },
  {
   "cell_type": "code",
   "execution_count": 30,
   "metadata": {
    "id": "OkgDgEsY7geH"
   },
   "outputs": [],
   "source": [
    "# Specify multiple parameters in the paramgrid, in case you have\n",
    "# enough processing power \n",
    "paramgrid1 =ParamGridBuilder().build()"
   ]
  },
  {
   "cell_type": "code",
   "execution_count": 31,
   "metadata": {
    "id": "5pPd-SNm8DWt"
   },
   "outputs": [],
   "source": [
    "evaluator=MulticlassClassificationEvaluator(metricName=\"f1\")"
   ]
  },
  {
   "cell_type": "code",
   "execution_count": 32,
   "metadata": {
    "id": "-o5sm9sx9BiC"
   },
   "outputs": [],
   "source": [
    "crossval= CrossValidator(estimator=pipeline2,  \n",
    "                         estimatorParamMaps=paramgrid1,\n",
    "                         evaluator=evaluator, \n",
    "                         numFolds=3\n",
    "                        )"
   ]
  },
  {
   "cell_type": "code",
   "execution_count": 33,
   "metadata": {
    "id": "MDZXmCow9YL3"
   },
   "outputs": [],
   "source": [
    "cvModel2 = crossval.fit(training)"
   ]
  },
  {
   "cell_type": "code",
   "execution_count": 36,
   "metadata": {
    "colab": {
     "base_uri": "https://localhost:8080/"
    },
    "id": "yKA3w7tF9cUg",
    "outputId": "b5e6ce32-9070-44e0-d3a8-cfe5fe12e92d"
   },
   "outputs": [
    {
     "data": {
      "text/plain": [
       "0.7820309114545717"
      ]
     },
     "execution_count": 36,
     "metadata": {},
     "output_type": "execute_result"
    }
   ],
   "source": [
    "evaluator.evaluate(cvModel2.transform(test))#evaluating the performance of the model"
   ]
  },
  {
   "cell_type": "markdown",
   "metadata": {
    "id": "JZiZphBg9llb"
   },
   "source": [
    "# Random Forest Classifier"
   ]
  },
  {
   "cell_type": "code",
   "execution_count": 37,
   "metadata": {
    "id": "zxNajK1Q9p69"
   },
   "outputs": [],
   "source": [
    "paramgrid2 = ParamGridBuilder().build()"
   ]
  },
  {
   "cell_type": "code",
   "execution_count": 39,
   "metadata": {
    "id": "YJzIDr0F93Vv"
   },
   "outputs": [],
   "source": [
    "evaluator=MulticlassClassificationEvaluator(metricName=\"f1\")#defining the evaluator"
   ]
  },
  {
   "cell_type": "code",
   "execution_count": 40,
   "metadata": {
    "id": "GuhmXvUt-lQi"
   },
   "outputs": [],
   "source": [
    "crossval = CrossValidator(estimator=pipeline3,\n",
    "                          estimatorParamMaps=paramgrid2,\n",
    "                          evaluator=evaluator,\n",
    "                          numFolds=3\n",
    "                          )"
   ]
  },
  {
   "cell_type": "code",
   "execution_count": 41,
   "metadata": {
    "id": "Gql13D2G-484"
   },
   "outputs": [],
   "source": [
    "cvModel3 = crossval.fit(training)"
   ]
  },
  {
   "cell_type": "code",
   "execution_count": 42,
   "metadata": {
    "colab": {
     "base_uri": "https://localhost:8080/"
    },
    "id": "PdbwVOYc-_yL",
    "outputId": "01fbf129-356f-4444-b85d-995fc5e3a059"
   },
   "outputs": [
    {
     "data": {
      "text/plain": [
       "0.7113787375415281"
      ]
     },
     "execution_count": 42,
     "metadata": {},
     "output_type": "execute_result"
    }
   ],
   "source": [
    "evaluator.evaluate(cvModel3.transform(test))"
   ]
  },
  {
   "cell_type": "code",
   "execution_count": 43,
   "metadata": {
    "id": "86j76M-F_Hdf"
   },
   "outputs": [],
   "source": [
    "predictions=cvModel2.transform(test)"
   ]
  },
  {
   "cell_type": "code",
   "execution_count": 44,
   "metadata": {
    "colab": {
     "base_uri": "https://localhost:8080/",
     "height": 295
    },
    "id": "hurwmqZT_Lm5",
    "outputId": "8ef3f421-89be-4c4b-c7a6-bb02ac4aacaf"
   },
   "outputs": [
    {
     "data": {
      "image/png": "[encoded data removed]",
      "text/plain": [
       "<Figure size 432x288 with 1 Axes>"
      ]
     },
     "metadata": {
      "needs_background": "light"
     },
     "output_type": "display_data"
    }
   ],
   "source": [
    "def roc(ax, predictions, labels, title='ROC curve'):\n",
    "    pp = predictions.toPandas()['probability'].apply(lambda x:x[1]).values\n",
    "    tpr, fpr, _ = roc_curve(labels, pp)\n",
    "    ax.plot(tpr, fpr)\n",
    "    ax.set_facecolor('xkcd:wheat')\n",
    "    ax.set_xlabel('False Positive Rate')\n",
    "    ax.set_ylabel('True Positive Rate')\n",
    "    ax.set_title(title)\n",
    "    \n",
    "#plt.clf() # to be used for AWS EMR\n",
    "labels=predictions.toPandas()['label']\n",
    "fig = plt.figure()\n",
    "ax = fig.add_subplot(111)\n",
    "roc(ax, predictions,labels)"
   ]
  },
  {
   "cell_type": "markdown",
   "metadata": {
    "id": "OGRJ-rgPZB_z"
   },
   "source": [
    "So the randome forest is the best ML algorithm to analyse this dataset"
   ]
  },
  {
   "cell_type": "code",
   "execution_count": null,
   "metadata": {
    "id": "M0tYsNdMuc8E"
   },
   "outputs": [],
   "source": []
  }
 ],
 "metadata": {
  "colab": {
   "provenance": []
  },
  "kernelspec": {
   "display_name": "Python 3 (ipykernel)",
   "language": "python",
   "name": "python3"
  },
  "language_info": {
   "codemirror_mode": {
    "name": "ipython",
    "version": 3
   },
   "file_extension": ".py",
   "mimetype": "text/x-python",
   "name": "python",
   "nbconvert_exporter": "python",
   "pygments_lexer": "ipython3",
   "version": "3.9.12"
  }
 },
 "nbformat": 4,
 "nbformat_minor": 1
}
